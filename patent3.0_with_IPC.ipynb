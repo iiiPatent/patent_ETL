{
 "cells": [
  {
   "cell_type": "code",
   "execution_count": 1,
   "metadata": {
    "collapsed": false
   },
   "outputs": [],
   "source": [
    "#step1  不要點\n",
    "# import os, sys\n",
    "# fff = open('E:/patent_data/catalog/.txt','w')\n",
    "# path = \"E:/patent_data/catalog/cat\" #所有擋案的路徑\n",
    "\n",
    "# list_40001 = os.listdir(path)\n",
    "# for number40001 in list_40001:\n",
    "#     xml092134555_list = os.listdir(path +'/'+ number40001 )\n",
    "#     for xml092134555 in xml092134555_list:\n",
    "#         final_path = path + '/' + number40001 + '/' + xml092134555\n",
    "#         final = final_path + '\\n'\n",
    "#         fff.write(final)\n",
    "# fff.close()"
   ]
  },
  {
   "cell_type": "code",
   "execution_count": 2,
   "metadata": {
    "collapsed": true
   },
   "outputs": [],
   "source": [
    "#step2\n",
    "from bs4 import BeautifulSoup as bs\n",
    "def buildIPC(single_path):\n",
    "    dic = {'this_id':'',\n",
    "        'classification-ipc-main-classification':'',\n",
    "      'classification-ipc-further-classification':'',\n",
    "      'classification-locarno-main-classification':'',\n",
    "      'classification-locarno-further-classification':''}\n",
    "    \n",
    "    f = open(single_path,'r')\n",
    "    soup = bs(f.read())\n",
    "    dic['this_id'] = soup.select('application-reference')[0].select('doc-number')[0].text.encode('utf-8')\n",
    "    #print this_id\n",
    "\n",
    "    if soup.select('classification-ipc'):\n",
    "        #print 'ipc:-----------------------------'\n",
    "        #print soup.select('classification-ipc')[0].select('main-classification')[0].text.encode('utf-8')\n",
    "        dic['classification-ipc-main-classification'] = soup.select('classification-ipc')[0].select('main-classification')[0].text.encode('utf-8')\n",
    "        if soup.select('classification-ipc')[0].select('further-classification'):\n",
    "            #print soup.select('classification-ipc')[0].select('further-classification')[0].text.encode('utf-8')\n",
    "            dic['classification-ipc-further-classification'] = soup.select('classification-ipc')[0].select('further-classification')[0].text.encode('utf-8')\n",
    "    elif soup.select('classification-locarno'):\n",
    "        #print 'loc:---------------------------'\n",
    "        #print soup.select('classification-locarno')[0].select('main-classification')[0].text.encode('utf-8')\n",
    "        dic['classification-locarno-main-classification'] = soup.select('classification-locarno')[0].select('main-classification')[0].text.encode('utf-8')\n",
    "        if soup.select('classification-locarno')[0].select('further-classification'):\n",
    "            #print soup.select('classification-locarno')[0].select('further-classification')[0].text.encode('utf-8')\n",
    "            dic['classification-locarno-further-classification'] = soup.select('classification-locarno')[0].select('further-classification')[0].text.encode('utf-8')\n",
    "    return dic"
   ]
  },
  {
   "cell_type": "code",
   "execution_count": 4,
   "metadata": {
    "collapsed": false
   },
   "outputs": [
    {
     "name": "stdout",
     "output_type": "stream",
     "text": [
      "total: 66149\n"
     ]
    },
    {
     "name": "stderr",
     "output_type": "stream",
     "text": [
      "C:\\Users\\BigData\\Anaconda2\\lib\\site-packages\\ipykernel\\__main__.py:18: DeprecationWarning: update is deprecated. Use replace_one, update_one or update_many instead.\n"
     ]
    }
   ],
   "source": [
    "#step3\n",
    "import pymongo\n",
    "from pymongo import MongoClient\n",
    "client = MongoClient('mongodb://localhost:27017')\n",
    "db = client['full_text']  #選擇database\n",
    "collect = db['context']  #選擇database.collection\n",
    "\n",
    "\n",
    "count = 0\n",
    "\n",
    "f = open('E:/patent_data/catalog/catalog_path42.txt', 'r')\n",
    "for line in f.readlines():\n",
    "    #print line\n",
    "    try:\n",
    "        single_path = line.split()[0]\n",
    "        dic = buildIPC(single_path)\n",
    "\n",
    "        collect.update({'_id':dic['this_id']}, {\"$set\": dic})\n",
    "        count +=1\n",
    "    except IndexError:\n",
    "        print 'no!: ' + line.split()[0]\n",
    "    except:\n",
    "        print 'I do not know!  ' + line.split()[0]\n",
    "print 'total: ' + str(count)\n",
    "f.close()"
   ]
  },
  {
   "cell_type": "markdown",
   "metadata": {},
   "source": [
    "亂碼碼碼碼碼!!!!!!!!!!!!!!!!!!!!!!!!!!!!!!!!!!!\n",
    "E:/patent_data/catalog/cat41/41018/099142874.xml\n",
    "E:/patent_data/catalog/cat41/41018/100116911.xml\n",
    "E:/patent_data/catalog/cat41/41018/100136373.xml\n",
    "E:/patent_data/catalog/cat41/41022/102305968.xml\n",
    "E:/patent_data/catalog/cat41/41022/103202318.xml"
   ]
  }
 ],
 "metadata": {
  "kernelspec": {
   "display_name": "Python 2",
   "language": "python",
   "name": "python2"
  },
  "language_info": {
   "codemirror_mode": {
    "name": "ipython",
    "version": 2
   },
   "file_extension": ".py",
   "mimetype": "text/x-python",
   "name": "python",
   "nbconvert_exporter": "python",
   "pygments_lexer": "ipython2",
   "version": "2.7.10"
  }
 },
 "nbformat": 4,
 "nbformat_minor": 0
}
