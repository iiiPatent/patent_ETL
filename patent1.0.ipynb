{
 "cells": [
  {
   "cell_type": "code",
   "execution_count": 23,
   "metadata": {
    "collapsed": false
   },
   "outputs": [
    {
     "name": "stdout",
     "output_type": "stream",
     "text": [
      "33\n"
     ]
    }
   ],
   "source": [
    "#step1\n",
    "#ary是指除了specification以外的標籤\n",
    "s ='''title\n",
    "case_code\n",
    "file-reference-id\n",
    "doc-page\n",
    "abstract\n",
    "doc-page\n",
    "abst-problem\n",
    "abst-solution\n",
    "main-use\n",
    "abstract-dtext\n",
    "description\n",
    "doc-page\n",
    "technical-field \n",
    "background-art\n",
    "disclosure\n",
    "tech-problem\n",
    "tech-solution\n",
    "advantageous-effects \n",
    "mode-for-invention \n",
    "description-of-drawings\n",
    "description-of-element\n",
    "sequence-list-text\n",
    "main-use\n",
    "claims\n",
    "doc-page\n",
    "claim\n",
    "doc-page\n",
    "claim-text \n",
    "general-chemistry \n",
    "figure-drawings\n",
    "drawings\n",
    "doc-page\n",
    "figure '''\n",
    "ary = s.split('\\n')\n",
    "#print ary\n",
    "print len(ary)"
   ]
  },
  {
   "cell_type": "code",
   "execution_count": 24,
   "metadata": {
    "collapsed": true
   },
   "outputs": [],
   "source": [
    "#step2\n",
    "def spec(soup):\n",
    "    spec_dic = {}\n",
    "    if soup.select('specification'):\n",
    "        spec = soup.select('specification')[0]\n",
    "        for att in spec.attrs:\n",
    "            spec_dic[att.encode('utf-8')] = spec[att].encode('utf-8')\n",
    "    if soup.select('invention-specification'):\n",
    "        spec = soup.select('invention-specification')[0]\n",
    "        for att in spec.attrs:\n",
    "            spec_dic[att.encode('utf-8')] = spec[att].encode('utf-8')\n",
    "    if soup.select('design-specification'):\n",
    "        spec = soup.select('invention-specification')[0]\n",
    "        for att in spec.attrs:\n",
    "            spec_dic[att.encode('utf-8')] = spec[att].encode('utf-8')\n",
    "    if soup.select('utility-model-specification'):\n",
    "        spec = soup.select('invention-specification')[0]\n",
    "        for att in spec.attrs:\n",
    "            spec_dic[att.encode('utf-8')] = spec[att].encode('utf-8')\n",
    "    return spec_dic"
   ]
  },
  {
   "cell_type": "code",
   "execution_count": 25,
   "metadata": {
    "collapsed": false
   },
   "outputs": [],
   "source": [
    "#step3\n",
    "#建立read_file方法，參數是xml_route檔案路徑\n",
    "from bs4 import BeautifulSoup as bs\n",
    "def read_file(xml_route):\n",
    "    f = open(xml_route,'r')\n",
    "    soup = bs(f.read())\n",
    "    dic = {}\n",
    "    for i in range(0,33):\n",
    "        if soup.select(ary[i]):\n",
    "            ss =''\n",
    "            for a in soup.select(ary[i]):\n",
    "                ss += a.text.strip().encode('utf-8')\n",
    "            dic[ary[i]] = ss\n",
    "    dic.update(spec(soup))\n",
    "    return dic"
   ]
  },
  {
   "cell_type": "code",
   "execution_count": 26,
   "metadata": {
    "collapsed": false
   },
   "outputs": [
    {
     "name": "stdout",
     "output_type": "stream",
     "text": [
      "C:\\\\Users\\\\BigData\\\\Desktop\\\\patent\\\\PatentPubXML_040008\\\\4008M448872\\\\101217907-A0305.xml\n",
      "C:\\\\Users\\\\BigData\\\\Desktop\\\\patent\\\\PatentPubXML_040008\\\\4008M448873\\\\101220226-A0305.xml\n",
      "C:\\\\Users\\\\BigData\\\\Desktop\\\\patent\\\\PatentPubXML_040008\\\\4008M448874\\\\101220228-A0305.xml\n",
      "C:\\\\Users\\\\BigData\\\\Desktop\\\\patent\\\\PatentPubXML_040008\\\\4008M448875\\\\101217750-A0305.xml\n",
      "C:\\\\Users\\\\BigData\\\\Desktop\\\\patent\\\\PatentPubXML_040008\\\\4008M448876\\\\101216232-A0305.xml\n",
      "C:\\\\Users\\\\BigData\\\\Desktop\\\\patent\\\\PatentPubXML_040008\\\\4008M448877\\\\101214816-A0305.xml\n",
      "C:\\\\Users\\\\BigData\\\\Desktop\\\\patent\\\\PatentPubXML_040008\\\\4008M448878\\\\101214223-A0305.xml\n",
      "C:\\\\Users\\\\BigData\\\\Desktop\\\\patent\\\\PatentPubXML_040008\\\\4008M448879\\\\101221919-A0305.xml\n",
      "C:\\\\Users\\\\BigData\\\\Desktop\\\\patent\\\\PatentPubXML_040008\\\\4008M448880\\\\101221997-A0305.xml\n",
      "C:\\\\Users\\\\BigData\\\\Desktop\\\\patent\\\\PatentPubXML_040008\\\\4008M448881\\\\101216075-A0305.xml\n",
      "C:\\\\Users\\\\BigData\\\\Desktop\\\\patent\\\\PatentPubXML_040008\\\\4008M448882\\\\101219430-A0305.xml\n",
      "C:\\\\Users\\\\BigData\\\\Desktop\\\\patent\\\\PatentPubXML_040008\\\\4008M448883\\\\101220838-A0305.xml\n",
      "C:\\\\Users\\\\BigData\\\\Desktop\\\\patent\\\\PatentPubXML_040008\\\\4008M448884\\\\101221314-A0305.xml\n",
      "C:\\\\Users\\\\BigData\\\\Desktop\\\\patent\\\\PatentPubXML_040008\\\\4008M448885\\\\101214351-A0305.xml\n",
      "C:\\\\Users\\\\BigData\\\\Desktop\\\\patent\\\\PatentPubXML_040008\\\\4008M448886\\\\101212955-A0305.xml\n",
      "C:\\\\Users\\\\BigData\\\\Desktop\\\\patent\\\\PatentPubXML_040008\\\\4008M448887\\\\101221688-A0305.xml\n",
      "C:\\\\Users\\\\BigData\\\\Desktop\\\\patent\\\\PatentPubXML_040008\\\\4008M448888\\\\101219671-A0305.xml\n",
      "C:\\\\Users\\\\BigData\\\\Desktop\\\\patent\\\\PatentPubXML_040008\\\\4008M448889\\\\101216853-A0305.xml\n",
      "C:\\\\Users\\\\BigData\\\\Desktop\\\\patent\\\\PatentPubXML_040008\\\\4008M448890\\\\101217426-A0305.xml\n",
      "C:\\\\Users\\\\BigData\\\\Desktop\\\\patent\\\\PatentPubXML_040008\\\\4008M448891\\\\101218624-A0305.xml\n"
     ]
    }
   ],
   "source": [
    "#step4\n",
    "#路徑方法\n",
    "import os, sys\n",
    "fff = open('C:\\\\Users\\\\BigData\\\\Desktop\\\\path_list.txt','w')\n",
    "path = \"C:\\\\Users\\\\BigData\\\\Desktop\\\\patent\"\n",
    "patentpub_list = os.listdir( path )\n",
    "for patentpub in patentpub_list:\n",
    "    patent_number_list = os.listdir(path +'\\\\'+ patentpub)\n",
    "    try:\n",
    "        for patent_number in patent_number_list:\n",
    "            xml_list = os.listdir(path +'\\\\'+ patentpub + '\\\\' + patent_number)\n",
    "            for xml in xml_list:\n",
    "                if os.path.splitext(xml)[-1] == '.xml':\n",
    "                    route = \"C:\\\\\\\\Users\\\\\\\\BigData\\\\\\\\Desktop\\\\\\\\patent\" +'\\\\\\\\'+ patentpub + '\\\\\\\\' + patent_number + '\\\\\\\\' + xml\n",
    "            print route\n",
    "            fff.write(route + '\\n')\n",
    "    except WindowsError:\n",
    "        pass\n",
    "    except:\n",
    "        print 'other except!!!'\n",
    "fff.close()"
   ]
  },
  {
   "cell_type": "code",
   "execution_count": 27,
   "metadata": {
    "collapsed": false
   },
   "outputs": [
    {
     "name": "stdout",
     "output_type": "stream",
     "text": [
      "C:\\\\Users\\\\BigData\\\\Desktop\\\\patent\\\\PatentPubXML_040008\\\\4008M448872\\\\101217907-A0305.xml\n",
      "23\n",
      "--------------------------\n",
      "C:\\\\Users\\\\BigData\\\\Desktop\\\\patent\\\\PatentPubXML_040008\\\\4008M448873\\\\101220226-A0305.xml\n",
      "23\n",
      "--------------------------\n",
      "C:\\\\Users\\\\BigData\\\\Desktop\\\\patent\\\\PatentPubXML_040008\\\\4008M448874\\\\101220228-A0305.xml\n",
      "23\n",
      "--------------------------\n",
      "C:\\\\Users\\\\BigData\\\\Desktop\\\\patent\\\\PatentPubXML_040008\\\\4008M448875\\\\101217750-A0305.xml\n",
      "25\n",
      "ipc-mark H05B 41/38 H05B 37/02\n",
      "--------------------------\n",
      "C:\\\\Users\\\\BigData\\\\Desktop\\\\patent\\\\PatentPubXML_040008\\\\4008M448876\\\\101216232-A0305.xml\n",
      "23\n",
      "--------------------------\n",
      "C:\\\\Users\\\\BigData\\\\Desktop\\\\patent\\\\PatentPubXML_040008\\\\4008M448877\\\\101214816-A0305.xml\n",
      "23\n",
      "--------------------------\n",
      "C:\\\\Users\\\\BigData\\\\Desktop\\\\patent\\\\PatentPubXML_040008\\\\4008M448878\\\\101214223-A0305.xml\n",
      "25\n",
      "ipc-mark H05K 3/00\n",
      "--------------------------\n",
      "C:\\\\Users\\\\BigData\\\\Desktop\\\\patent\\\\PatentPubXML_040008\\\\4008M448879\\\\101221919-A0305.xml\n",
      "23\n",
      "--------------------------\n",
      "C:\\\\Users\\\\BigData\\\\Desktop\\\\patent\\\\PatentPubXML_040008\\\\4008M448880\\\\101221997-A0305.xml\n",
      "23\n",
      "--------------------------\n",
      "C:\\\\Users\\\\BigData\\\\Desktop\\\\patent\\\\PatentPubXML_040008\\\\4008M448881\\\\101216075-A0305.xml\n",
      "23\n",
      "--------------------------\n",
      "C:\\\\Users\\\\BigData\\\\Desktop\\\\patent\\\\PatentPubXML_040008\\\\4008M448882\\\\101219430-A0305.xml\n",
      "23\n",
      "--------------------------\n",
      "C:\\\\Users\\\\BigData\\\\Desktop\\\\patent\\\\PatentPubXML_040008\\\\4008M448883\\\\101220838-A0305.xml\n",
      "23\n",
      "--------------------------\n",
      "C:\\\\Users\\\\BigData\\\\Desktop\\\\patent\\\\PatentPubXML_040008\\\\4008M448884\\\\101221314-A0305.xml\n",
      "23\n",
      "--------------------------\n",
      "C:\\\\Users\\\\BigData\\\\Desktop\\\\patent\\\\PatentPubXML_040008\\\\4008M448885\\\\101214351-A0305.xml\n",
      "23\n",
      "--------------------------\n",
      "C:\\\\Users\\\\BigData\\\\Desktop\\\\patent\\\\PatentPubXML_040008\\\\4008M448886\\\\101212955-A0305.xml\n",
      "23\n",
      "--------------------------\n",
      "C:\\\\Users\\\\BigData\\\\Desktop\\\\patent\\\\PatentPubXML_040008\\\\4008M448887\\\\101221688-A0305.xml\n",
      "23\n",
      "--------------------------\n",
      "C:\\\\Users\\\\BigData\\\\Desktop\\\\patent\\\\PatentPubXML_040008\\\\4008M448888\\\\101219671-A0305.xml\n",
      "23\n",
      "--------------------------\n",
      "C:\\\\Users\\\\BigData\\\\Desktop\\\\patent\\\\PatentPubXML_040008\\\\4008M448889\\\\101216853-A0305.xml\n",
      "23\n",
      "--------------------------\n",
      "C:\\\\Users\\\\BigData\\\\Desktop\\\\patent\\\\PatentPubXML_040008\\\\4008M448890\\\\101217426-A0305.xml\n",
      "23\n",
      "--------------------------\n",
      "C:\\\\Users\\\\BigData\\\\Desktop\\\\patent\\\\PatentPubXML_040008\\\\4008M448891\\\\101218624-A0305.xml\n",
      "23\n",
      "--------------------------\n",
      "20\n",
      "464\n"
     ]
    }
   ],
   "source": [
    "#step5\n",
    "test_file = open('C:\\\\Users\\\\BigData\\\\Desktop\\\\path_list.txt','r')\n",
    "count = 0\n",
    "countt = 0\n",
    "for line in test_file.readlines():\n",
    "    xml_route = line.strip()\n",
    "    print xml_route\n",
    "    dic = read_file(xml_route)\n",
    "    #print dic\n",
    "    print len(dic)\n",
    "    for key in dic:\n",
    "        if key == 'ipc-mark':\n",
    "            print key, dic[key]\n",
    "        countt += 1\n",
    "    print '--------------------------'\n",
    "    count += 1\n",
    "print count\n",
    "print countt\n"
   ]
  },
  {
   "cell_type": "code",
   "execution_count": null,
   "metadata": {
    "collapsed": true
   },
   "outputs": [],
   "source": []
  }
 ],
 "metadata": {
  "kernelspec": {
   "display_name": "Python 2",
   "language": "python",
   "name": "python2"
  },
  "language_info": {
   "codemirror_mode": {
    "name": "ipython",
    "version": 2
   },
   "file_extension": ".py",
   "mimetype": "text/x-python",
   "name": "python",
   "nbconvert_exporter": "python",
   "pygments_lexer": "ipython2",
   "version": "2.7.10"
  }
 },
 "nbformat": 4,
 "nbformat_minor": 0
}
