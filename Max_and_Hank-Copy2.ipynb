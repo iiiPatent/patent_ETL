{
 "cells": [
  {
   "cell_type": "code",
   "execution_count": 1,
   "metadata": {
    "collapsed": false
   },
   "outputs": [
    {
     "name": "stdout",
     "output_type": "stream",
     "text": [
      "33\n"
     ]
    }
   ],
   "source": [
    "#step1\n",
    "#ary是指除了specification以外的標籤\n",
    "s ='''title\n",
    "case_code\n",
    "file-reference-id\n",
    "doc-page\n",
    "abstract\n",
    "doc-page\n",
    "abst-problem\n",
    "abst-solution\n",
    "main-use\n",
    "abstract-dtext\n",
    "description\n",
    "doc-page\n",
    "technical-field \n",
    "background-art\n",
    "disclosure\n",
    "tech-problem\n",
    "tech-solution\n",
    "advantageous-effects \n",
    "mode-for-invention \n",
    "description-of-drawings\n",
    "description-of-element\n",
    "sequence-list-text\n",
    "main-use\n",
    "claims\n",
    "doc-page\n",
    "claim\n",
    "doc-page\n",
    "claim-text \n",
    "general-chemistry \n",
    "figure-drawings\n",
    "drawings\n",
    "doc-page\n",
    "figure '''\n",
    "ary = s.split('\\n')\n",
    "#print ary\n",
    "print len(ary)"
   ]
  },
  {
   "cell_type": "code",
   "execution_count": 2,
   "metadata": {
    "collapsed": true
   },
   "outputs": [],
   "source": [
    "#step2\n",
    "def spec(soup):\n",
    "    spec_dic = {}\n",
    "    if soup.select('specification'):\n",
    "        spec = soup.select('specification')[0]\n",
    "        for att in spec.attrs:\n",
    "            spec_dic[att.encode('utf-8')] = spec[att].encode('utf-8')\n",
    "    if soup.select('invention-specification'):\n",
    "        spec = soup.select('invention-specification')[0]\n",
    "        for att in spec.attrs:\n",
    "            spec_dic[att.encode('utf-8')] = spec[att].encode('utf-8')\n",
    "    if soup.select('design-specification'):\n",
    "        spec = soup.select('invention-specification')[0]\n",
    "        for att in spec.attrs:\n",
    "            spec_dic[att.encode('utf-8')] = spec[att].encode('utf-8')\n",
    "    if soup.select('utility-model-specification'):\n",
    "        spec = soup.select('invention-specification')[0]\n",
    "        for att in spec.attrs:\n",
    "            spec_dic[att.encode('utf-8')] = spec[att].encode('utf-8')\n",
    "    return spec_dic"
   ]
  },
  {
   "cell_type": "code",
   "execution_count": 4,
   "metadata": {
    "collapsed": false
   },
   "outputs": [],
   "source": [
    "#step4\n",
    "#建立read_file方法，參數是xml_route檔案路徑\n",
    "from bs4 import BeautifulSoup as bs\n",
    "def read_file(path_and_dim):\n",
    "    route = path_and_dim.split(',')[0]\n",
    "    f = open(route,'r')\n",
    "    soup = bs(f.read())\n",
    "    dic = {}\n",
    "    dic['DIM'] = path_and_dim.split(',')[1]\n",
    "    for i in range(0,33):\n",
    "        if soup.select(ary[i]):\n",
    "            ss =''\n",
    "            for a in soup.select(ary[i]):\n",
    "                ss += a.text.strip().encode('utf-8')\n",
    "            dic[ary[i]] = ss\n",
    "    dic.update(spec(soup))\n",
    "    \n",
    "    return dic"
   ]
  },
  {
   "cell_type": "code",
   "execution_count": null,
   "metadata": {
    "collapsed": true
   },
   "outputs": [],
   "source": []
  }
 ],
 "metadata": {
  "kernelspec": {
   "display_name": "Python 2",
   "language": "python",
   "name": "python2"
  },
  "language_info": {
   "codemirror_mode": {
    "name": "ipython",
    "version": 2
   },
   "file_extension": ".py",
   "mimetype": "text/x-python",
   "name": "python",
   "nbconvert_exporter": "python",
   "pygments_lexer": "ipython2",
   "version": "2.7.10"
  }
 },
 "nbformat": 4,
 "nbformat_minor": 0
}
