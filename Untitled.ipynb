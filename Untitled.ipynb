{
 "cells": [
  {
   "cell_type": "code",
   "execution_count": null,
   "metadata": {
    "collapsed": true
   },
   "outputs": [],
   "source": [
    "import pymongo\n",
    "from pymongo import MongoClient\n",
    "client = MongoClient('mongodb://localhost:27017')\n",
    "db = client['max']  #選擇database\n",
    "collect = db['patent']  #選擇database.collection\n",
    "\n",
    "\n",
    "\n",
    "\n",
    "\n",
    "\n",
    "# test_file = open('C:\\\\Users\\\\BigData\\\\Desktop\\\\path_list.txt','r')\n",
    "# count = 0\n",
    "# for line in test_file.readlines():\n",
    "#     path_and_dim = line.strip()\n",
    "#     #print path_and_dim\n",
    "#     dic = read_file(path_and_dim)\n",
    "#     collect.insert_one(dic)\n",
    "#     count += 1\n",
    "#     print count"
   ]
  }
 ],
 "metadata": {
  "kernelspec": {
   "display_name": "Python 2",
   "language": "python",
   "name": "python2"
  },
  "language_info": {
   "codemirror_mode": {
    "name": "ipython",
    "version": 2
   },
   "file_extension": ".py",
   "mimetype": "text/x-python",
   "name": "python",
   "nbconvert_exporter": "python",
   "pygments_lexer": "ipython2",
   "version": "2.7.10"
  }
 },
 "nbformat": 4,
 "nbformat_minor": 0
}
