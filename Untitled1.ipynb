{
 "cells": [
  {
   "cell_type": "code",
   "execution_count": 6,
   "metadata": {
    "collapsed": false
   },
   "outputs": [
    {
     "data": {
      "text/plain": [
       "{u'error': {u'reason': u'Validation Failed: 1: script or doc is missing;',\n",
       "  u'root_cause': [{u'reason': u'Validation Failed: 1: script or doc is missing;',\n",
       "    u'type': u'action_request_validation_exception'}],\n",
       "  u'type': u'action_request_validation_exception'},\n",
       " u'status': 400}"
      ]
     },
     "execution_count": 6,
     "metadata": {},
     "output_type": "execute_result"
    }
   ],
   "source": [
    "from elasticsearch import Elasticsearch\n",
    "import elasticsearch\n",
    "es = Elasticsearch('10.120.26.16:9200')\n",
    "doc = {\"蘇柏安\":\"eibijb\"}\n",
    "es.update(index=\"nono\", doc_type=\"desk\", id=58, body=doc, ignore=400)"
   ]
  }
 ],
 "metadata": {
  "kernelspec": {
   "display_name": "Python 2",
   "language": "python",
   "name": "python2"
  },
  "language_info": {
   "codemirror_mode": {
    "name": "ipython",
    "version": 2
   },
   "file_extension": ".py",
   "mimetype": "text/x-python",
   "name": "python",
   "nbconvert_exporter": "python",
   "pygments_lexer": "ipython2",
   "version": "2.7.10"
  }
 },
 "nbformat": 4,
 "nbformat_minor": 0
}
