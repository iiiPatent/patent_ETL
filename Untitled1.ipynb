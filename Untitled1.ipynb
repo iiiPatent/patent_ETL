{
 "cells": [
  {
   "cell_type": "code",
   "execution_count": null,
   "metadata": {
    "collapsed": true
   },
   "outputs": [],
   "source": [
    "import os, sys\n",
    "fff = open('C:\\\\Users\\\\BigData\\\\Desktop\\\\path_list.txt','w')\n",
    "path = \"C:\\\\Users\\\\BigData\\\\Desktop\\\\patent\" #所有擋案的路徑\n",
    "\n",
    "PatentPubXML_list = os.listdir( path )\n",
    "for PatentPubXML_040008 in PatentPubXML_list:\n",
    "    DMI_list = os.listdir(path +'\\\\'+ PatentPubXML_040008)  #DMI_list = ['4008M448872', '4008M448873',.....]\n",
    "    try:\n",
    "        for DMI in DMI_list:  #DMI = #4008M448872\n",
    "            xml_list = os.listdir(path +'\\\\'+ PatentPubXML_040008 + '\\\\' + DMI)\n",
    "            for xml in xml_list:\n",
    "                if os.path.splitext(xml)[-1] == '.xml':  #xml = 101217907-A0305.xml\n",
    "                    route = \"C:\\\\\\\\Users\\\\\\\\BigData\\\\\\\\Desktop\\\\\\\\patent\" +'\\\\\\\\'+ PatentPubXML_040008 + '\\\\\\\\' + DMI + '\\\\\\\\' + xml\n",
    "                    final_route = route +','+ DMI[4]\n",
    "                    print final_route\n",
    "\n",
    "                    fff.write(final_route + '\\n')\n",
    "    except WindowsError:\n",
    "        pass\n",
    "    except:\n",
    "        print 'other except!!!'\n",
    "\n",
    "fff.close()"
   ]
  },
  {
   "cell_type": "code",
   "execution_count": null,
   "metadata": {
    "collapsed": true
   },
   "outputs": [],
   "source": [
    "\n",
    "if soup.select('specification'):\n",
    "        spec = soup.select('specification')[0]\n",
    "        for att in spec.attrs:\n",
    "            spec_dic[att.encode('utf-8')] = spec[att].encode('utf-8')"
   ]
  }
 ],
 "metadata": {
  "kernelspec": {
   "display_name": "Python 2",
   "language": "python",
   "name": "python2"
  },
  "language_info": {
   "codemirror_mode": {
    "name": "ipython",
    "version": 2
   },
   "file_extension": ".py",
   "mimetype": "text/x-python",
   "name": "python",
   "nbconvert_exporter": "python",
   "pygments_lexer": "ipython2",
   "version": "2.7.10"
  }
 },
 "nbformat": 4,
 "nbformat_minor": 0
}
