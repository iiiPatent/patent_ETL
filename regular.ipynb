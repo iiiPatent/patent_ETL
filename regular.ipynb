{
 "cells": [
  {
   "cell_type": "code",
   "execution_count": 4,
   "metadata": {
    "collapsed": false
   },
   "outputs": [
    {
     "name": "stdout",
     "output_type": "stream",
     "text": [
      "12.9889998436\n",
      "======================================================================\n",
      "Done!!!!\n"
     ]
    }
   ],
   "source": [
    "# coding=UTF-8\n",
    "\n",
    "# Jieba wtih stop_words\n",
    "# Please mkdir \"cutword\"\n",
    "\n",
    "import jieba,time,os,operator\n",
    "import jieba.analyse\n",
    "from operator import itemgetter, attrgetter  \n",
    "\n",
    "# Enter your dir name\n",
    "dir_name = 'testCut'\n",
    "\n",
    "jieba.load_userdict('./{}/dict/Words_PerfectDict_utf8_fix.txt'.format(dir_name))\n",
    "stop_words = [word.strip().decode('utf-8') for word in open('./{}/dict/stopwords_final.txt'.format(dir_name),'r').readlines()]\n",
    "\n",
    "if not os.path.exists('./{}/out'.format(dir_name)):\n",
    "    os.mkdir('./{}/out'.format(dir_name))\n",
    "\n",
    "for dirPath , dirNames , fileNames in os.walk('./{}/in'.format(dir_name)):\n",
    "    for name in fileNames:\n",
    "        \n",
    "        title = name[:11]\n",
    "\n",
    "        in_url ='./{0}/in/{1}'.format(dir_name,name)\n",
    "        content = ''\n",
    "        dic = {}\n",
    "\n",
    "        with open(in_url,mode='r') as in_file:\n",
    "            content = in_file.readlines()\n",
    "    \n",
    "        TStart = time.time()\n",
    "        \n",
    "        for ele in content:\n",
    "            words = jieba.cut(ele, cut_all=False)\n",
    "            for word in words:\n",
    "                if word in stop_words or len(word) <2:\n",
    "                    continue\n",
    "                if word not in dic:\n",
    "                    dic[word.strip()] = 1\n",
    "                else:\n",
    "                    dic[word.strip()] +=1\n",
    "                    \n",
    "        out_url='./{0}/out/{1}_out.txt'.format(dir_name,title)\n",
    "        \n",
    "        sorted_x = sorted(dic.items(), key=operator.itemgetter(1), reverse = True)\n",
    "\n",
    "        with open(out_url,mode='a') as out_file:\n",
    "            for word in sorted_x:\n",
    "                #text = word[0] + ',' + str(word[1])+'\\n'\n",
    "                text = word[0] + '\\n'\n",
    "                out_file.write(text.encode('utf-8'))\n",
    "                \n",
    "        TStop = time.time()\n",
    "        print(TStop - TStart)\n",
    "        print '='*70\n",
    "        \n",
    "print 'Done!!!!'"
   ]
  },
  {
   "cell_type": "code",
   "execution_count": 145,
   "metadata": {
    "collapsed": false
   },
   "outputs": [
    {
     "name": "stdout",
     "output_type": "stream",
     "text": [
      "matchObj.group() :  2-中文\n",
      "matchObj.group(1) :  2\n",
      "matchObj.group(2) :  中文\n"
     ]
    }
   ],
   "source": [
    "import re\n",
    "\n",
    "line = '2-中文'.decode('utf-8')\n",
    "\n",
    "matchObj = re.match( r'(\\w+).?([^\\w]+)', line, re.M|re.I)\n",
    "\n",
    "if matchObj:\n",
    "    print \"matchObj.group() : \", matchObj.group()\n",
    "    print \"matchObj.group(1) : \", matchObj.group(1)\n",
    "    print \"matchObj.group(2) : \", matchObj.group(2)\n",
    "else:\n",
    "    print \"No match!!\""
   ]
  },
  {
   "cell_type": "code",
   "execution_count": 148,
   "metadata": {
    "collapsed": false
   },
   "outputs": [
    {
     "name": "stdout",
     "output_type": "stream",
     "text": [
      "matchObj.group() :  2-中文\n",
      "matchObj.group(1) :  中文\n"
     ]
    }
   ],
   "source": [
    "import re\n",
    "\n",
    "line = '2-中文'.decode('utf-8')\n",
    "\n",
    "matchObj = re.match( r'\\w+.?([^\\w]+)', line, re.M|re.I)\n",
    "\n",
    "if matchObj:\n",
    "    print \"matchObj.group() : \", matchObj.group()\n",
    "    print \"matchObj.group(1) : \", matchObj.group(1)\n",
    "    #print \"matchObj.group(2) : \", matchObj.group(2)\n",
    "else:\n",
    "    print \"No match!!\""
   ]
  },
  {
   "cell_type": "code",
   "execution_count": 164,
   "metadata": {
    "collapsed": false
   },
   "outputs": [
    {
     "name": "stdout",
     "output_type": "stream",
     "text": [
      "matchObj.group(2) :  三中文\n"
     ]
    }
   ],
   "source": [
    "import re\n",
    "\n",
    "line = '186-23.2-三中文'.decode('utf-8')\n",
    "\n",
    "matchObj = re.match( r'(\\w+.?)+([^\\w]+)', line, re.M|re.I)\n",
    "\n",
    "if matchObj:\n",
    "    #print \"matchObj.group() : \", matchObj.group()\n",
    "    #print \"matchObj.group(1) : \", matchObj.group(1)\n",
    "    print \"matchObj.group(2) : \", matchObj.group(2)\n",
    "else:\n",
    "    print \"No match!!\""
   ]
  },
  {
   "cell_type": "code",
   "execution_count": 189,
   "metadata": {
    "collapsed": false
   },
   "outputs": [
    {
     "name": "stdout",
     "output_type": "stream",
     "text": [
      "matchObj.group(2) :  三中文\n"
     ]
    }
   ],
   "source": [
    "import re\n",
    "\n",
    "line = '186--23.2-三中文'.decode('utf-8')\n",
    "\n",
    "matchObj = re.match( r'(\\w+[-\\./]*)+([^\\w]+)', line, re.M|re.I)\n",
    "\n",
    "if matchObj:\n",
    "    #print \"matchObj.group() : \", matchObj.group()\n",
    "    #print \"matchObj.group(1) : \", matchObj.group(1)\n",
    "    print \"matchObj.group(2) : \", matchObj.group(2)\n",
    "    #print \"matchObj.group(3) : \", matchObj.group(3)\n",
    "    #print \"matchObj.group(4) : \", matchObj.group(4)\n",
    "else:\n",
    "    print \"No match!!\""
   ]
  },
  {
   "cell_type": "code",
   "execution_count": 219,
   "metadata": {
    "collapsed": false
   },
   "outputs": [
    {
     "name": "stdout",
     "output_type": "stream",
     "text": [
      "matchObj.group() :  2-三中文\n",
      "matchObj.group(1) :  三中文\n"
     ]
    }
   ],
   "source": [
    "import re\n",
    "\n",
    "line = '2-三中文-哈哈'.decode('utf-8')\n",
    "\n",
    "matchObj = re.match( r'\\w+-?([^\\w-]+)', line, re.M|re.I)\n",
    "\n",
    "if matchObj:\n",
    "    print \"matchObj.group() : \", matchObj.group()\n",
    "    print \"matchObj.group(1) : \", matchObj.group(1)\n",
    "    #print \"matchObj.group(2) : \", matchObj.group(2)\n",
    "    #print \"matchObj.group(3) : \", matchObj.group(3)\n",
    "    #print \"matchObj.group(4) : \", matchObj.group(4)\n",
    "else:\n",
    "    print \"No match!!\""
   ]
  },
  {
   "cell_type": "code",
   "execution_count": 238,
   "metadata": {
    "collapsed": false
   },
   "outputs": [
    {
     "name": "stdout",
     "output_type": "stream",
     "text": [
      "none\n"
     ]
    }
   ],
   "source": [
    "import re\n",
    "content = '2-152-三中文-哈哈'.decode('utf-8')\n",
    "content1 = 'vhsuekvb'\n",
    "if re.match('\\w+', content1) is not None:\n",
    "    print 'none'\n",
    "else:\n",
    "    print 'yes'"
   ]
  },
  {
   "cell_type": "code",
   "execution_count": 289,
   "metadata": {
    "collapsed": false
   },
   "outputs": [
    {
     "name": "stdout",
     "output_type": "stream",
     "text": [
      "<type '_sre.SRE_Match'>\n",
      "matchObj.group() :  2-152-三中文-安\n",
      "matchObj.group(1) :  152-\n",
      "matchObj.group(2) :  三中文\n",
      "matchObj.group(3) :  安\n"
     ]
    }
   ],
   "source": [
    "#ok\n",
    "import re\n",
    "\n",
    "line = '2-152-三中文-安-優'.decode('utf-8')\n",
    "\n",
    "matchObj = re.match( r'(\\w+-)+([^\\w-]+)-?([^\\w-]+)*', line, re.M|re.I)\n",
    "\n",
    "if matchObj:\n",
    "    print \"matchObj.group() : \", matchObj.group()\n",
    "    print \"matchObj.group(1) : \", matchObj.group(1)\n",
    "    print \"matchObj.group(2) : \", matchObj.group(2)\n",
    "    print \"matchObj.group(3) : \", matchObj.group(3)\n",
    "    #print \"matchObj.group(4) : \", matchObj.group(4)\n",
    "else:\n",
    "    print \"No match!!\""
   ]
  },
  {
   "cell_type": "code",
   "execution_count": 315,
   "metadata": {
    "collapsed": false
   },
   "outputs": [
    {
     "name": "stdout",
     "output_type": "stream",
     "text": [
      "三中文\n",
      "安\n"
     ]
    }
   ],
   "source": [
    "#ok\n",
    "import re\n",
    "line = '2-152-三中文-安'.decode('utf-8')\n",
    "matchObj = re.match( r'(\\w+-)+([^\\w-]+)-?([^\\w-]+)*', line)\n",
    "for i in range(2,4):\n",
    "    if matchObj.group(i):\n",
    "        print matchObj.group(i)\n",
    "    else:\n",
    "         print \"No match!!\""
   ]
  },
  {
   "cell_type": "code",
   "execution_count": 439,
   "metadata": {
    "collapsed": false
   },
   "outputs": [
    {
     "name": "stdout",
     "output_type": "stream",
     "text": [
      "β\n",
      "羥丙腈\n"
     ]
    }
   ],
   "source": [
    "#判斷式\n",
    "import re\n",
    "word = 'β-羥丙腈'.decode('utf-8')\n",
    "word1 = '2-152-三中文-哈哈'\n",
    "word2 = '蘇柏安'.decode('utf8')\n",
    "\n",
    "regex1 = r'(\\w+-)+([^\\w-]+)-?([^\\w-]+)*'\n",
    "regex2 = r\"()([^\\w]+)-([^\\w]+)\"\n",
    "\n",
    "\n",
    "matchObj = re.match(regex2 or regex1, word)\n",
    "if matchObj is None:\n",
    "    #正常流程\n",
    "    print 'yes'\n",
    "else:\n",
    "    #出現例外\n",
    "    for i in range(2,4):\n",
    "        if matchObj.group(i):\n",
    "            print matchObj.group(i)\n"
   ]
  },
  {
   "cell_type": "code",
   "execution_count": 456,
   "metadata": {
    "collapsed": false
   },
   "outputs": [
    {
     "name": "stdout",
     "output_type": "stream",
     "text": [
      "β\n",
      "羥丙腈\n"
     ]
    }
   ],
   "source": [
    "#判斷式test完成but複雜\n",
    "import re\n",
    "word = 'β-羥丙腈'.decode('utf-8')\n",
    "word1 = '2-152-三中文-哈哈'.decode('utf-8')\n",
    "word2 = '蘇柏安'.decode('utf8')\n",
    "word3 = 'sefvbtnvx-mnh'\n",
    "\n",
    "regex1 = r'(\\w+-)+([^\\w-]+)-?([^\\w-]+)*'\n",
    "regex2 = r\"()([^\\w]+)-([^\\w]+)\"\n",
    "\n",
    "\n",
    "matchObj = re.match(regex1, word)\n",
    "if matchObj is None:\n",
    "    matchObj1 = re.match(regex2, word)\n",
    "    if matchObj1 is None:\n",
    "        print 'yes'\n",
    "    else:\n",
    "        for i in range(2,4):\n",
    "            if matchObj1.group(i):\n",
    "                print matchObj1.group(i)\n",
    "else:\n",
    "    #出現例外\n",
    "    for i in range(2,4):\n",
    "        if matchObj.group(i):\n",
    "            print matchObj.group(i)"
   ]
  },
  {
   "cell_type": "code",
   "execution_count": 285,
   "metadata": {
    "collapsed": false
   },
   "outputs": [
    {
     "name": "stdout",
     "output_type": "stream",
     "text": [
      "no\n"
     ]
    }
   ],
   "source": [
    "#\n",
    "import re\n",
    "content = '2-152-三中文-哈哈'.decode('utf-8')\n",
    "content1 = 'vhsuekvb'\n",
    "content2 = '蘇柏安'.decode('utf8')\n",
    "if re.search(r'(\\w+-)+([^\\w-]+)-?([^\\w-]+)', content) is None:\n",
    "    print 'yes'\n",
    "else:\n",
    "    print 'no'\n",
    "    \n",
    "    \n",
    "#(\\w+-)+([^\\w-]+)-?([^\\w-]+)"
   ]
  }
 ],
 "metadata": {
  "kernelspec": {
   "display_name": "Python 2",
   "language": "python",
   "name": "python2"
  },
  "language_info": {
   "codemirror_mode": {
    "name": "ipython",
    "version": 2
   },
   "file_extension": ".py",
   "mimetype": "text/x-python",
   "name": "python",
   "nbconvert_exporter": "python",
   "pygments_lexer": "ipython2",
   "version": "2.7.10"
  }
 },
 "nbformat": 4,
 "nbformat_minor": 0
}
