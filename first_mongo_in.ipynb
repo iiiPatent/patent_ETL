{
 "cells": [
  {
   "cell_type": "code",
   "execution_count": 23,
   "metadata": {
    "collapsed": false
   },
   "outputs": [
    {
     "name": "stdout",
     "output_type": "stream",
     "text": [
      "33\n"
     ]
    }
   ],
   "source": [
    "#step1\n",
    "#ary是指除了specification以外的標籤\n",
    "s ='''title\n",
    "case_code\n",
    "file-reference-id\n",
    "doc-page\n",
    "abstract\n",
    "doc-page\n",
    "abst-problem\n",
    "abst-solution\n",
    "main-use\n",
    "abstract-dtext\n",
    "description\n",
    "doc-page\n",
    "technical-field \n",
    "background-art\n",
    "disclosure\n",
    "tech-problem\n",
    "tech-solution\n",
    "advantageous-effects \n",
    "mode-for-invention \n",
    "description-of-drawings\n",
    "description-of-element\n",
    "sequence-list-text\n",
    "main-use\n",
    "claims\n",
    "doc-page\n",
    "claim\n",
    "doc-page\n",
    "claim-text \n",
    "general-chemistry \n",
    "figure-drawings\n",
    "drawings\n",
    "doc-page\n",
    "figure '''\n",
    "ary = s.split('\\n')\n",
    "#print ary\n",
    "print len(ary)"
   ]
  },
  {
   "cell_type": "code",
   "execution_count": 24,
   "metadata": {
    "collapsed": true
   },
   "outputs": [],
   "source": [
    "#step2\n",
    "def spec(soup):\n",
    "    spec_dic = {}\n",
    "    if soup.select('specification'):\n",
    "        spec = soup.select('specification')[0]\n",
    "        for att in spec.attrs:\n",
    "            spec_dic[att.encode('utf-8')] = spec[att].encode('utf-8')\n",
    "            spec_dic['_id'] = spec['application-num']\n",
    "    elif soup.select('invention-specification'):\n",
    "        spec = soup.select('invention-specification')[0]\n",
    "        for att in spec.attrs:\n",
    "            spec_dic[att.encode('utf-8')] = spec[att].encode('utf-8')\n",
    "            spec_dic['_id'] = spec['application-num']\n",
    "    elif soup.select('design-specification'):\n",
    "        spec = soup.select('design-specification')[0]\n",
    "        for att in spec.attrs:\n",
    "            spec_dic[att.encode('utf-8')] = spec[att].encode('utf-8')\n",
    "            spec_dic['_id'] = spec['application-num']\n",
    "    elif soup.select('utility-model-specification'):\n",
    "        spec = soup.select('utility-model-specification')[0]\n",
    "        for att in spec.attrs:\n",
    "            spec_dic[att.encode('utf-8')] = spec[att].encode('utf-8')\n",
    "            spec_dic['_id'] = spec['application-num']\n",
    "    return spec_dic\n",
    "\n",
    "#     以下code比較精簡但效率不好\n",
    "#     ary_spec = ['specification','invention-specification','design-specification','utility-model-specification']\n",
    "#     for i in range(0,3):\n",
    "#         if soup.select(ary_spec[i]):\n",
    "#             spec = soup.select(ary_spec[i])[0]\n",
    "#             for att in spec.attrs:\n",
    "#                 spec_dic[att.encode('utf-8')] = spec[att].encode('utf-8')\n",
    "#                 spec_dic['_id'] = spec['application-num']\n",
    "#     return spec_dic"
   ]
  },
  {
   "cell_type": "code",
   "execution_count": 25,
   "metadata": {
    "collapsed": false
   },
   "outputs": [],
   "source": [
    "#step3\n",
    "#路徑方法\n",
    "import os, sys\n",
    "fff = open('E:/patent_data/path_list_40.txt','w')\n",
    "path = \"E:/patent_data/40\" #所有擋案的路徑\n",
    "\n",
    "PatentPubXML_list = os.listdir( path )\n",
    "for PatentPubXML_040008 in PatentPubXML_list:\n",
    "    DMI_list = os.listdir(path +'\\\\'+ PatentPubXML_040008)  #DMI_list = ['4008M448872', '4008M448873',.....]\n",
    "    try:\n",
    "        for DMI in DMI_list:  #DMI = #4008M448872\n",
    "            xml_list = os.listdir(path +'\\\\'+ PatentPubXML_040008 + '\\\\' + DMI)\n",
    "            for xml in xml_list:\n",
    "                if os.path.splitext(xml)[-1] == '.xml':  #xml = 101217907-A0305.xml\n",
    "                    route = path + '/' + PatentPubXML_040008 + '/' + DMI + '/' + xml\n",
    "                    final_route = route +','+ DMI[4]\n",
    "                    #print final_route\n",
    "\n",
    "                    fff.write(final_route + '\\n')\n",
    "    except WindowsError:\n",
    "        pass\n",
    "    except:\n",
    "        print 'other except!!!'\n",
    "\n",
    "fff.close()"
   ]
  },
  {
   "cell_type": "code",
   "execution_count": 21,
   "metadata": {
    "collapsed": false
   },
   "outputs": [],
   "source": [
    "#step4\n",
    "#建立read_file方法，參數是xml_route檔案路徑\n",
    "from bs4 import BeautifulSoup as bs\n",
    "def read_file(path_and_dim):\n",
    "    route = path_and_dim.split(',')[0]\n",
    "    f = open(route,'r')\n",
    "    soup = bs(f.read())\n",
    "    dic = {}\n",
    "    dic['DIM'] = path_and_dim.split(',')[1]\n",
    "    for i in range(0,33):\n",
    "        if soup.select(ary[i]):\n",
    "            ss =''\n",
    "            for a in soup.select(ary[i]):\n",
    "                ss += a.text.strip().encode('utf-8')\n",
    "            dic[ary[i]] = ss\n",
    "    if len(spec(soup)) != 0:\n",
    "        dic.update(spec(soup))\n",
    "    else:\n",
    "        print 'No spec:' + path_and_dim\n",
    "    \n",
    "    return dic"
   ]
  },
  {
   "cell_type": "code",
   "execution_count": 22,
   "metadata": {
    "collapsed": false
   },
   "outputs": [
    {
     "name": "stdout",
     "output_type": "stream",
     "text": [
      "2001\n"
     ]
    }
   ],
   "source": [
    "##step5 存進db\n",
    "import pymongo\n",
    "from pymongo import MongoClient\n",
    "client = MongoClient('mongodb://localhost:27017')\n",
    "db = client['']  #選擇database\n",
    "collect = db['']  #選擇database.collection\n",
    "\n",
    "path_file = open('E:/patent_data/path_list_6.txt','r')\n",
    "count = 0\n",
    "for line in path_file.readlines():\n",
    "    path_and_dim = line.strip()\n",
    "    dic = read_file(path_and_dim)\n",
    "    try:\n",
    "        collect.insert_one(dic)\n",
    "        count += 1\n",
    "    except pymongo.errors.DuplicateKeyError: #_id重複 (application-num)\n",
    "        print '_id重複: ' + path_and_dim\n",
    "        pass\n",
    "    \n",
    "    #print count,  dic['application-num'], path_and_dim\n",
    "print count  #成功進筆數\n",
    "path_file.close()\n",
    "\n",
    "#可能出以下東西\n",
    "#No spec:  抓不到specification, 可能原始檔有問題(亂碼)\n",
    "#'_id重複:'"
   ]
  },
  {
   "cell_type": "markdown",
   "metadata": {
    "collapsed": true
   },
   "source": [
    "特殊的\n",
    "utility-model-specification\n",
    "E:/patent_data/PatentPubXML_040011/4011M450881/101224447-A0305.xml,M"
   ]
  }
 ],
 "metadata": {
  "kernelspec": {
   "display_name": "Python 2",
   "language": "python",
   "name": "python2"
  },
  "language_info": {
   "codemirror_mode": {
    "name": "ipython",
    "version": 2
   },
   "file_extension": ".py",
   "mimetype": "text/x-python",
   "name": "python",
   "nbconvert_exporter": "python",
   "pygments_lexer": "ipython2",
   "version": "2.7.10"
  }
 },
 "nbformat": 4,
 "nbformat_minor": 0
}
