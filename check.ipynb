{
 "cells": [
  {
   "cell_type": "code",
   "execution_count": 4,
   "metadata": {
    "collapsed": false
   },
   "outputs": [
    {
     "name": "stdout",
     "output_type": "stream",
     "text": [
      "except_40.txt\n",
      "except_41.txt\n",
      "except_42.txt\n"
     ]
    }
   ],
   "source": [
    "import os, sys\n",
    "fff = open('E:/patent_data/patentlist.txt','w')\n",
    "path = \"E:\\\\patent_data\\\\except_message\" #所有擋案的路徑\n",
    "\n",
    "patentlist = os.listdir(path)\n",
    "\n",
    "for i in patentlist:\n",
    "    print i\n",
    "    fff.write(i + '\\n')\n",
    "fff.close()\n",
    "\n",
    "#fff.write(final_route + '\\n')"
   ]
  }
 ],
 "metadata": {
  "kernelspec": {
   "display_name": "Python 2",
   "language": "python",
   "name": "python2"
  },
  "language_info": {
   "codemirror_mode": {
    "name": "ipython",
    "version": 2
   },
   "file_extension": ".py",
   "mimetype": "text/x-python",
   "name": "python",
   "nbconvert_exporter": "python",
   "pygments_lexer": "ipython2",
   "version": "2.7.10"
  }
 },
 "nbformat": 4,
 "nbformat_minor": 0
}
