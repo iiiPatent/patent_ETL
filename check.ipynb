{
 "cells": [
  {
   "cell_type": "code",
   "execution_count": 4,
   "metadata": {
    "collapsed": false
   },
   "outputs": [
    {
     "name": "stdout",
     "output_type": "stream",
     "text": [
      "except_40.txt\n",
      "except_41.txt\n",
      "except_42.txt\n"
     ]
    }
   ],
   "source": [
    "import os, sys\n",
    "fff = open('E:/patent_data/patentlist.txt','w')\n",
    "path = \"E:\\\\patent_data\\\\except_message\" #所有擋案的路徑\n",
    "\n",
    "patentlist = os.listdir(path)\n",
    "\n",
    "for i in patentlist:\n",
    "    print i\n",
    "    fff.write(i + '\\n')\n",
    "fff.close()\n",
    "\n",
    "#fff.write(final_route + '\\n')"
   ]
  },
  {
   "cell_type": "code",
   "execution_count": 36,
   "metadata": {
    "collapsed": false
   },
   "outputs": [
    {
     "data": {
      "text/plain": [
       "<bound method Elasticsearch.search of <Elasticsearch([{u'host': u'10.120.26.16', u'port': 9200}])>>"
      ]
     },
     "execution_count": 36,
     "metadata": {},
     "output_type": "execute_result"
    }
   ],
   "source": [
    "from elasticsearch import Elasticsearch\n",
    "es = Elasticsearch('10.120.26.16:9200')\n",
    "es.search"
   ]
  },
  {
   "cell_type": "code",
   "execution_count": null,
   "metadata": {
    "collapsed": true
   },
   "outputs": [],
   "source": [
    "update(*args, **kwargs)\n",
    " |      Update a document based on a script or partial data provided.\n",
    " |      `<http://www.elastic.co/guide/en/elasticsearch/reference/current/docs-update.html>`_\n",
    " |      \n",
    " |      :arg index: The name of the index\n",
    " |      :arg doc_type: The type of the document\n",
    " |      :arg id: Document ID\n",
    " |      :arg body: The request definition using either `script` or partial `doc`"
   ]
  },
  {
   "cell_type": "code",
   "execution_count": 79,
   "metadata": {
    "collapsed": true
   },
   "outputs": [],
   "source": [
    "f = open('e:\\haha.txt','a')\n",
    "f.write('hvotoob\\n')\n",
    "f.write('=================================================\\n')\n",
    "f.write('bjixlevx\\n')\n",
    "f.close()"
   ]
  },
  {
   "cell_type": "code",
   "execution_count": 8,
   "metadata": {
    "collapsed": false
   },
   "outputs": [
    {
     "name": "stdout",
     "output_type": "stream",
     "text": [
      "bre\n",
      "wr\n",
      "qewty\n",
      "no\n"
     ]
    }
   ],
   "source": [
    "from elasticsearch import Elasticsearch\n",
    "import elasticsearch\n",
    "es = Elasticsearch('10.120.26.16:9200')\n",
    "\n",
    "#doc = {\"hi\": \"yes\"}\n",
    "ipc = '10-155'\n",
    "dic = {\"no\":\"hankhaankhankahnk\",\"bre\":\"\",\"qewty\":\"483\",\"wr\":\"\"}\n",
    "#es.index(index=\"test-index\",doc_type=\"tweet\",id=1,body={\"hi\":\"how\"})\n",
    "\n",
    "#update內文有兩種選擇scrip, doc\n",
    "#這裡是用doc的語法, {\"doc\":{\"欄位\":\"值\",.....}}, 但是需要把它變成str\n",
    "for key in dic:\n",
    "    print key\n",
    "    doc = '''{\"doc\":{%s:%s}}''' %(key,dic[key])\n",
    "    #print type(doc)\n",
    "    #print doc\n",
    "    try:\n",
    "        es.update(index=\"test-index\",doc_type=\"tweet\",id=1,body=doc, ignore=500)\n",
    "    except elasticsearch.exceptions.NotFoundError :\n",
    "        print 'no'\n"
   ]
  },
  {
   "cell_type": "code",
   "execution_count": 12,
   "metadata": {
    "collapsed": false
   },
   "outputs": [
    {
     "name": "stdout",
     "output_type": "stream",
     "text": [
      "bre \n",
      "{\"doc\":{\"bre\":\"\"}}\n",
      "wr \n",
      "{\"doc\":{\"wr\":\"\"}}\n",
      "qewty 483\n",
      "{\"doc\":{\"qewty\":\"483\"}}\n",
      "no hankhaankhankahnk\n",
      "{\"doc\":{\"no\":\"hankhaankhankahnk\"}}\n"
     ]
    }
   ],
   "source": [
    "from elasticsearch import Elasticsearch\n",
    "import elasticsearch\n",
    "es = Elasticsearch('10.120.26.16:9200')\n",
    "\n",
    "#doc = {\"hi\": \"yes\"}\n",
    "ipc = '10-155'\n",
    "dic = {\"no\":\"hankhaankhankahnk\",\"bre\":\"\",\"qewty\":\"483\",\"wr\":\"\"}\n",
    "\n",
    "\n",
    "#update內文有兩種選擇scrip, doc\n",
    "#這裡是用doc的語法, {\"doc\":{\"欄位\":\"值\",.....}}, 但是需要把它變成str\n",
    "for key in dic:\n",
    "    print key, dic[key]\n",
    "    doc = '''{\"doc\":{\"%s\":\"%s\"}}''' %(key,dic[key])\n",
    "    print doc\n",
    "    es.update(index=\"test-index\",doc_type=\"tweet\",id=1,body=doc, ignore=500)\n"
   ]
  }
 ],
 "metadata": {
  "kernelspec": {
   "display_name": "Python 2",
   "language": "python",
   "name": "python2"
  },
  "language_info": {
   "codemirror_mode": {
    "name": "ipython",
    "version": 2
   },
   "file_extension": ".py",
   "mimetype": "text/x-python",
   "name": "python",
   "nbconvert_exporter": "python",
   "pygments_lexer": "ipython2",
   "version": "2.7.10"
  }
 },
 "nbformat": 4,
 "nbformat_minor": 0
}
