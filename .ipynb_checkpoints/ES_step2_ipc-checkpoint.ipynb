{
 "cells": [
  {
   "cell_type": "code",
   "execution_count": 1,
   "metadata": {
    "collapsed": false
   },
   "outputs": [],
   "source": [
    "#step1  不要點\n",
    "# import os, sys\n",
    "# fff = open('E:/patent_data/catalog/.txt','w')\n",
    "# path = \"E:/patent_data/catalog/cat\" #所有擋案的路徑\n",
    "\n",
    "# list_40001 = os.listdir(path)\n",
    "# for number40001 in list_40001:\n",
    "#     xml092134555_list = os.listdir(path +'/'+ number40001 )\n",
    "#     for xml092134555 in xml092134555_list:\n",
    "#         final_path = path + '/' + number40001 + '/' + xml092134555\n",
    "#         final = final_path + '\\n'\n",
    "#         fff.write(final)\n",
    "# fff.close()"
   ]
  },
  {
   "cell_type": "code",
   "execution_count": 1,
   "metadata": {
    "collapsed": true
   },
   "outputs": [],
   "source": [
    "#step2\n",
    "from bs4 import BeautifulSoup as bs\n",
    "def buildIPC(single_path):\n",
    "    dic = {'this_id':'',\n",
    "        'classification-ipc-main-classification':'',\n",
    "      'classification-ipc-further-classification':'',\n",
    "      'classification-locarno-main-classification':'',\n",
    "      'classification-locarno-further-classification':''}\n",
    "    \n",
    "    f = open(single_path,'r')\n",
    "    soup = bs(f.read())\n",
    "    dic['this_id'] = soup.select('application-reference')[0].select('doc-number')[0].text.encode('utf-8')\n",
    "    #print this_id\n",
    "\n",
    "    if soup.select('classification-ipc'):\n",
    "        #print 'ipc:-----------------------------'\n",
    "        #print soup.select('classification-ipc')[0].select('main-classification')[0].text.encode('utf-8')\n",
    "        dic['classification-ipc-main-classification'] = soup.select('classification-ipc')[0].select('main-classification')[0].text.encode('utf-8')\n",
    "        if soup.select('classification-ipc')[0].select('further-classification'):\n",
    "            #print soup.select('classification-ipc')[0].select('further-classification')[0].text.encode('utf-8')\n",
    "            dic['classification-ipc-further-classification'] = soup.select('classification-ipc')[0].select('further-classification')[0].text.encode('utf-8')\n",
    "    elif soup.select('classification-locarno'):\n",
    "        #print 'loc:---------------------------'\n",
    "        #print soup.select('classification-locarno')[0].select('main-classification')[0].text.encode('utf-8')\n",
    "        dic['classification-locarno-main-classification'] = soup.select('classification-locarno')[0].select('main-classification')[0].text.encode('utf-8')\n",
    "        if soup.select('classification-locarno')[0].select('further-classification'):\n",
    "            #print soup.select('classification-locarno')[0].select('further-classification')[0].text.encode('utf-8')\n",
    "            dic['classification-locarno-further-classification'] = soup.select('classification-locarno')[0].select('further-classification')[0].text.encode('utf-8')\n",
    "    return dic"
   ]
  },
  {
   "cell_type": "markdown",
   "metadata": {},
   "source": [
    "from elasticsearch import Elasticsearch\n",
    "import elasticsearch\n",
    "es = Elasticsearch('10.120.26.16:9200')\n",
    "\n",
    "#doc = {\"hi\": \"yes\"}\n",
    "ipc = '10-155'\n",
    "dic = {\"loc\":\"1589\",\"bre\":\"\",\"qewty\":\"483\",\"wr\":\"\"}\n",
    "\n",
    "\n",
    "#update內文有兩種選擇scrip, doc\n",
    "#這裡是用doc的語法, {\"doc\":{\"欄位\":\"值\",.....}}, 但是需要把它變成str\n",
    "for key in dic:\n",
    "    doc = '''{\"doc\":{%s:%s}}''' %(key,dic[key])\n",
    "    print type(doc)\n",
    "    print doc\n",
    "    try:\n",
    "        es.update(index=\"test-index\",doc_type=\"tweet\",id=1,body=doc, ignore=500)\n",
    "    except elasticsearch.exceptions.NotFoundError :\n",
    "        print 'no'"
   ]
  },
  {
   "cell_type": "code",
   "execution_count": 4,
   "metadata": {
    "collapsed": false,
    "scrolled": true
   },
   "outputs": [
    {
     "name": "stdout",
     "output_type": "stream",
     "text": [
      "total: 681\n"
     ]
    }
   ],
   "source": [
    "#step3    #要改一處\n",
    "不要點\n",
    "from elasticsearch import Elasticsearch\n",
    "import elasticsearch\n",
    "es = Elasticsearch('10.120.26.16:9200')\n",
    "\n",
    "ff = open('e:/step2_ipc.txt','a')\n",
    "count = 0\n",
    "\n",
    "f = open('E:\\\\patent_data\\\\catalog\\\\complete_path_catelog\\\\reload.txt', 'r')  ###\n",
    "for line in f.readlines():\n",
    "    \n",
    "    single_path = line.split()[0]\n",
    "    dic = buildIPC(single_path)\n",
    "    \n",
    "    try:\n",
    "        for key in dic:\n",
    "            doc = '''{\"doc\":{\"%s\":\"%s\"}}''' %(key,dic[key])\n",
    "            es.update(index=\"henry\",doc_type=\"ray\",id=dic[\"this_id\"],body=doc, ignore=400)\n",
    "        count +=1\n",
    "    #連線時間太短\n",
    "    except elasticsearch.exceptions.ConnectionError:\n",
    "        print 'timeout:' + single_path\n",
    "        ff.write('timeout:' + single_path + '\\n')\n",
    "        pass\n",
    "    #找不到對應的專利本文\n",
    "    except elasticsearch.exceptions.NotFoundError :\n",
    "        print 'NotFoundError:' + single_path\n",
    "        ff.write('NotFoundError:' + single_path + '\\n')\n",
    "        pass\n",
    "    #其他錯誤\n",
    "    except:\n",
    "        print 'error:' + single_path\n",
    "        ff.write('error:' + single_path + '\\n')\n",
    "        pass\n",
    "ff.write('=================================================\\n')\n",
    "ff.write('total:'+str(count)+'\\n')\n",
    "\n",
    "print 'total: ' + str(count)\n",
    "f.close()\n",
    "ff.close()"
   ]
  },
  {
   "cell_type": "markdown",
   "metadata": {},
   "source": [
    "亂碼碼碼碼碼!!!!!!!!!!!!!!!!!!!!!!!!!!!!!!!!!!!\n",
    "E:/patent_data/catalog/cat41/41018/099142874.xml\n",
    "E:/patent_data/catalog/cat41/41018/100116911.xml\n",
    "E:/patent_data/catalog/cat41/41018/100136373.xml\n",
    "E:/patent_data/catalog/cat41/41022/102305968.xml\n",
    "E:/patent_data/catalog/cat41/41022/103202318.xml"
   ]
  }
 ],
 "metadata": {
  "kernelspec": {
   "display_name": "Python 2",
   "language": "python",
   "name": "python2"
  },
  "language_info": {
   "codemirror_mode": {
    "name": "ipython",
    "version": 2
   },
   "file_extension": ".py",
   "mimetype": "text/x-python",
   "name": "python",
   "nbconvert_exporter": "python",
   "pygments_lexer": "ipython2",
   "version": "2.7.10"
  }
 },
 "nbformat": 4,
 "nbformat_minor": 0
}
