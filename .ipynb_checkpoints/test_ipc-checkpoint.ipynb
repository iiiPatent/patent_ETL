{
 "cells": [
  {
   "cell_type": "code",
   "execution_count": 3,
   "metadata": {
    "collapsed": false,
    "scrolled": true
   },
   "outputs": [
    {
     "name": "stdout",
     "output_type": "stream",
     "text": [
      "6953 69317 76270\n",
      "76270\n"
     ]
    }
   ],
   "source": [
    "import pymongo\n",
    "from pymongo import MongoClient\n",
    "client = MongoClient('mongodb://localhost:27017')\n",
    "db = client['play_41']  #選擇database\n",
    "collect = db['data41']  #選擇database.collection\n",
    "cursor = collect.find({},{'classification-locarno-main-classification':1})\n",
    "\n",
    "ipc = 0\n",
    "nonipc = 0\n",
    "count = 0\n",
    "for i in cursor:\n",
    "    if i['classification-locarno-main-classification'] !='':\n",
    "        ipc += 1 \n",
    "    else:\n",
    "        nonipc += 1\n",
    "    count += 1\n",
    "print ipc, nonipc, ipc + nonipc \n",
    "print count\n",
    "    "
   ]
  },
  {
   "cell_type": "code",
   "execution_count": 16,
   "metadata": {
    "collapsed": false
   },
   "outputs": [
    {
     "name": "stdout",
     "output_type": "stream",
     "text": [
      "0 0 0\n",
      "57624\n"
     ]
    }
   ],
   "source": [
    "import pymongo\n",
    "from pymongo import MongoClient\n",
    "client = MongoClient('mongodb://localhost:27017')\n",
    "db = client['play_42']  #選擇database\n",
    "collect = db['data42']  #選擇database.collection\n",
    "cursor = collect.find()\n",
    "\n",
    "ipc = 0\n",
    "nonipc = 0\n",
    "count = 0\n",
    "for i in cursor:\n",
    "#     if i['classification-ipc-main-classification'] =='':\n",
    "#         print i\n",
    "    if i['classification-locarno-main-classification'] =='' and i['classification-ipc-main-classification'] =='':\n",
    "        print i['_id']\n",
    "#     else:\n",
    "#         nonipc += 1\n",
    "    count += 1\n",
    "print ipc, nonipc, ipc + nonipc \n",
    "print count"
   ]
  },
  {
   "cell_type": "code",
   "execution_count": 4,
   "metadata": {
    "collapsed": false
   },
   "outputs": [
    {
     "data": {
      "text/plain": [
       "76265"
      ]
     },
     "execution_count": 4,
     "metadata": {},
     "output_type": "execute_result"
    }
   ],
   "source": [
    "6953+69312"
   ]
  },
  {
   "cell_type": "code",
   "execution_count": null,
   "metadata": {
    "collapsed": true
   },
   "outputs": [],
   "source": [
    "69312 6958 76270\n",
    "76270"
   ]
  },
  {
   "cell_type": "code",
   "execution_count": 27,
   "metadata": {
    "collapsed": false
   },
   "outputs": [
    {
     "name": "stdout",
     "output_type": "stream",
     "text": [
      "<type 'dict'>\n",
      "DIM\n",
      "claim\n",
      "classification-locarno-further-classification\n",
      "abstract\n",
      "general-chemistry\n",
      "office-num\n",
      "figure-drawings\n",
      "loc-mark\n",
      "file-reference-id\n",
      "file\n",
      "main-use\n",
      "abst-solution\n",
      "filing-date\n",
      "id\n",
      "application-num\n",
      "title\n",
      "dtd-version\n",
      "classification-locarno-main-classification\n",
      "claim-text\n",
      "case-code\n",
      "receive-num\n",
      "background-art\n",
      "status\n",
      "description\n",
      "mode-for-invention\n",
      "abstract-dtext\n",
      "classification-ipc-main-classification\n",
      "case_code\n",
      "disclosure\n",
      "description-of-element\n",
      "lang\n",
      "tech-problem\n",
      "produced-by\n",
      "description-of-drawings\n",
      "country\n",
      "abst-problem\n",
      "advantageous-effects\n",
      "package-num\n",
      "tech-solution\n",
      "receive-date\n",
      "ipc-mark\n",
      "technical-field\n",
      "claims\n",
      "sequence-list-text\n",
      "_id\n",
      "classification-ipc-further-classification\n",
      "drawings\n",
      "1\n"
     ]
    }
   ],
   "source": [
    "import pymongo\n",
    "from pymongo import MongoClient\n",
    "client = MongoClient('mongodb://localhost:27017')\n",
    "db = client['play_41']  #選擇database\n",
    "collect = db['data41']  #選擇database.collection\n",
    "count = 0\n",
    "for dic in collect.find({'_id':'100116911'}):\n",
    "    print type(dic)\n",
    "    count += 1\n",
    "    for key in dic:\n",
    "        print key #dic[key]\n",
    "\n",
    "#ipc = 0\n",
    "#nonipc = 0\n",
    "print count\n",
    "# for i in cursor:\n",
    "#     print i\n",
    "#     if i['classification-ipc-main-classification'] =='':\n",
    "#         print i\n",
    "#     if i['classification-locarno-main-classification'] =='' and i['classification-ipc-main-classification'] =='':\n",
    "#         print i['_id']\n",
    "#     else:\n",
    "#         nonipc += 1\n",
    "#     count += 1\n",
    "# print ipc, nonipc, ipc + nonipc \n",
    "# print count"
   ]
  },
  {
   "cell_type": "code",
   "execution_count": null,
   "metadata": {
    "collapsed": true
   },
   "outputs": [],
   "source": [
    "\n",
    "\n",
    "41的例外\n",
    "100116911\n",
    "099142874\n",
    "100136373\n",
    "102305968\n",
    "103202318"
   ]
  },
  {
   "cell_type": "markdown",
   "metadata": {},
   "source": [
    "亂碼碼碼碼碼!!!!!!!!!!!!!!!!!!!!!!!!!!!!!!!!!!!\n",
    "E:/patent_data/catalog/cat41/41018/100116911.xml\n",
    "E:/patent_data/catalog/cat41/41018/100116911.xml\n",
    "E:/patent_data/catalog/cat41/41018/100136373.xml\n",
    "E:/patent_data/catalog/cat41/41022/102305968.xml\n",
    "E:/patent_data/catalog/cat41/41022/103202318.xml"
   ]
  },
  {
   "cell_type": "code",
   "execution_count": 32,
   "metadata": {
    "collapsed": false
   },
   "outputs": [
    {
     "name": "stdout",
     "output_type": "stream",
     "text": [
      "got 1\n",
      "got 2\n",
      "got 3\n",
      "got 4\n",
      "got 5\n",
      "got 6\n",
      "got 7\n",
      "got 8\n",
      "got 9\n",
      "got 10\n",
      "got 11\n",
      "got 12\n",
      "got 13\n",
      "got 14\n",
      "got 15\n",
      "got 16\n",
      "got 17\n",
      "got 18\n",
      "got 19\n",
      "got 20\n",
      "got 21\n",
      "got 22\n",
      "got 23\n",
      "got 24\n",
      "got 25\n",
      "got 26\n",
      "got 27\n",
      "got 28\n",
      "got 29\n",
      "got 30\n",
      "got 31\n",
      "got 32\n",
      "got 33\n",
      "got 34\n",
      "got 35\n",
      "got 36\n",
      "got 37\n",
      "got 38\n",
      "got 39\n",
      "got 40\n",
      "got 41\n",
      "got 42\n",
      "got 43\n",
      "got 44\n",
      "got 45\n",
      "got 46\n",
      "got 47\n",
      "got 48\n",
      "got 49\n",
      "got 50\n",
      "got 51\n",
      "got 52\n",
      "got 53\n",
      "got 54\n",
      "got 55\n",
      "got 56\n",
      "got 57\n",
      "got 58\n",
      "got 59\n",
      "got 60\n",
      "got 61\n",
      "got 62\n",
      "got 63\n",
      "got 64\n",
      "got 65\n",
      "got 66\n",
      "got 67\n",
      "got 68\n",
      "got 69\n",
      "got 70\n",
      "got 71\n",
      "got 72\n",
      "got 73\n",
      "got 74\n",
      "got 75\n",
      "got 76\n",
      "got 77\n",
      "got 78\n",
      "got 79\n",
      "got 80\n",
      "got 81\n",
      "got 82\n",
      "got 83\n",
      "got 84\n",
      "got 85\n",
      "got 86\n",
      "got 87\n",
      "got 88\n",
      "got 89\n",
      "got 90\n",
      "got 91\n",
      "got 92\n",
      "got 93\n",
      "got 94\n",
      "got 95\n",
      "got 96\n",
      "got 97\n",
      "got 98\n",
      "got 99\n"
     ]
    }
   ],
   "source": [
    "for i in range(1,100):\n",
    "    try:    \n",
    "        x=5\n",
    "        y='wefvb'\n",
    "        z = x+y\n",
    "    except TypeError:\n",
    "        print 'got',i\n",
    "\n"
   ]
  },
  {
   "cell_type": "code",
   "execution_count": 2,
   "metadata": {
    "collapsed": false
   },
   "outputs": [
    {
     "name": "stderr",
     "output_type": "stream",
     "text": [
      "c:\\python27\\lib\\site-packages\\ipykernel\\__main__.py:7: DeprecationWarning: update is deprecated. Use replace_one, update_one or update_many instead.\n"
     ]
    },
    {
     "ename": "ServerSelectionTimeoutError",
     "evalue": "localhost:27017: [Errno 10061] 無法連線，因為目標電腦拒絕連線。",
     "output_type": "error",
     "traceback": [
      "\u001b[1;31m---------------------------------------------------------------------------\u001b[0m",
      "\u001b[1;31mServerSelectionTimeoutError\u001b[0m               Traceback (most recent call last)",
      "\u001b[1;32m<ipython-input-2-ead1f9f4f8d6>\u001b[0m in \u001b[0;36m<module>\u001b[1;34m()\u001b[0m\n\u001b[0;32m      5\u001b[0m \u001b[0mcollect\u001b[0m \u001b[1;33m=\u001b[0m \u001b[0mdb\u001b[0m\u001b[1;33m[\u001b[0m\u001b[1;34m'data41'\u001b[0m\u001b[1;33m]\u001b[0m  \u001b[1;31m#選擇database.collection\u001b[0m\u001b[1;33m\u001b[0m\u001b[0m\n\u001b[0;32m      6\u001b[0m \u001b[1;33m\u001b[0m\u001b[0m\n\u001b[1;32m----> 7\u001b[1;33m \u001b[0mcollect\u001b[0m\u001b[1;33m.\u001b[0m\u001b[0mupdate\u001b[0m\u001b[1;33m(\u001b[0m\u001b[1;33m{\u001b[0m\u001b[1;34m'_id'\u001b[0m\u001b[1;33m:\u001b[0m\u001b[1;34m'100116911'\u001b[0m\u001b[1;33m}\u001b[0m\u001b[1;33m,\u001b[0m \u001b[1;33m{\u001b[0m\u001b[1;34m\"$set\"\u001b[0m\u001b[1;33m:\u001b[0m \u001b[1;33m{\u001b[0m\u001b[1;34m'classification-ipc-main-classification'\u001b[0m\u001b[1;33m:\u001b[0m\u001b[1;34m'G06F12/02'\u001b[0m\u001b[1;33m}\u001b[0m\u001b[1;33m}\u001b[0m\u001b[1;33m)\u001b[0m\u001b[1;33m\u001b[0m\u001b[0m\n\u001b[0m\u001b[0;32m      8\u001b[0m \u001b[1;33m\u001b[0m\u001b[0m\n",
      "\u001b[1;32mc:\\python27\\lib\\site-packages\\pymongo\\collection.pyc\u001b[0m in \u001b[0;36mupdate\u001b[1;34m(self, spec, document, upsert, manipulate, multi, check_keys, **kwargs)\u001b[0m\n\u001b[0;32m   1954\u001b[0m         \u001b[1;32mif\u001b[0m \u001b[0mkwargs\u001b[0m\u001b[1;33m:\u001b[0m\u001b[1;33m\u001b[0m\u001b[0m\n\u001b[0;32m   1955\u001b[0m             \u001b[0mwrite_concern\u001b[0m \u001b[1;33m=\u001b[0m \u001b[0mWriteConcern\u001b[0m\u001b[1;33m(\u001b[0m\u001b[1;33m**\u001b[0m\u001b[0mkwargs\u001b[0m\u001b[1;33m)\u001b[0m\u001b[1;33m\u001b[0m\u001b[0m\n\u001b[1;32m-> 1956\u001b[1;33m         \u001b[1;32mwith\u001b[0m \u001b[0mself\u001b[0m\u001b[1;33m.\u001b[0m\u001b[0m_socket_for_writes\u001b[0m\u001b[1;33m(\u001b[0m\u001b[1;33m)\u001b[0m \u001b[1;32mas\u001b[0m \u001b[0msock_info\u001b[0m\u001b[1;33m:\u001b[0m\u001b[1;33m\u001b[0m\u001b[0m\n\u001b[0m\u001b[0;32m   1957\u001b[0m             return self._update(sock_info, spec, document, upsert,\n\u001b[0;32m   1958\u001b[0m                                 check_keys, multi, manipulate, write_concern)\n",
      "\u001b[1;32mc:\\python27\\lib\\contextlib.pyc\u001b[0m in \u001b[0;36m__enter__\u001b[1;34m(self)\u001b[0m\n\u001b[0;32m     15\u001b[0m     \u001b[1;32mdef\u001b[0m \u001b[0m__enter__\u001b[0m\u001b[1;33m(\u001b[0m\u001b[0mself\u001b[0m\u001b[1;33m)\u001b[0m\u001b[1;33m:\u001b[0m\u001b[1;33m\u001b[0m\u001b[0m\n\u001b[0;32m     16\u001b[0m         \u001b[1;32mtry\u001b[0m\u001b[1;33m:\u001b[0m\u001b[1;33m\u001b[0m\u001b[0m\n\u001b[1;32m---> 17\u001b[1;33m             \u001b[1;32mreturn\u001b[0m \u001b[0mself\u001b[0m\u001b[1;33m.\u001b[0m\u001b[0mgen\u001b[0m\u001b[1;33m.\u001b[0m\u001b[0mnext\u001b[0m\u001b[1;33m(\u001b[0m\u001b[1;33m)\u001b[0m\u001b[1;33m\u001b[0m\u001b[0m\n\u001b[0m\u001b[0;32m     18\u001b[0m         \u001b[1;32mexcept\u001b[0m \u001b[0mStopIteration\u001b[0m\u001b[1;33m:\u001b[0m\u001b[1;33m\u001b[0m\u001b[0m\n\u001b[0;32m     19\u001b[0m             \u001b[1;32mraise\u001b[0m \u001b[0mRuntimeError\u001b[0m\u001b[1;33m(\u001b[0m\u001b[1;34m\"generator didn't yield\"\u001b[0m\u001b[1;33m)\u001b[0m\u001b[1;33m\u001b[0m\u001b[0m\n",
      "\u001b[1;32mc:\\python27\\lib\\site-packages\\pymongo\\mongo_client.pyc\u001b[0m in \u001b[0;36m_get_socket\u001b[1;34m(self, selector)\u001b[0m\n\u001b[0;32m    661\u001b[0m     \u001b[1;33m@\u001b[0m\u001b[0mcontextlib\u001b[0m\u001b[1;33m.\u001b[0m\u001b[0mcontextmanager\u001b[0m\u001b[1;33m\u001b[0m\u001b[0m\n\u001b[0;32m    662\u001b[0m     \u001b[1;32mdef\u001b[0m \u001b[0m_get_socket\u001b[0m\u001b[1;33m(\u001b[0m\u001b[0mself\u001b[0m\u001b[1;33m,\u001b[0m \u001b[0mselector\u001b[0m\u001b[1;33m)\u001b[0m\u001b[1;33m:\u001b[0m\u001b[1;33m\u001b[0m\u001b[0m\n\u001b[1;32m--> 663\u001b[1;33m         \u001b[0mserver\u001b[0m \u001b[1;33m=\u001b[0m \u001b[0mself\u001b[0m\u001b[1;33m.\u001b[0m\u001b[0m_get_topology\u001b[0m\u001b[1;33m(\u001b[0m\u001b[1;33m)\u001b[0m\u001b[1;33m.\u001b[0m\u001b[0mselect_server\u001b[0m\u001b[1;33m(\u001b[0m\u001b[0mselector\u001b[0m\u001b[1;33m)\u001b[0m\u001b[1;33m\u001b[0m\u001b[0m\n\u001b[0m\u001b[0;32m    664\u001b[0m         \u001b[1;32mtry\u001b[0m\u001b[1;33m:\u001b[0m\u001b[1;33m\u001b[0m\u001b[0m\n\u001b[0;32m    665\u001b[0m             \u001b[1;32mwith\u001b[0m \u001b[0mserver\u001b[0m\u001b[1;33m.\u001b[0m\u001b[0mget_socket\u001b[0m\u001b[1;33m(\u001b[0m\u001b[0mself\u001b[0m\u001b[1;33m.\u001b[0m\u001b[0m__all_credentials\u001b[0m\u001b[1;33m)\u001b[0m \u001b[1;32mas\u001b[0m \u001b[0msock_info\u001b[0m\u001b[1;33m:\u001b[0m\u001b[1;33m\u001b[0m\u001b[0m\n",
      "\u001b[1;32mc:\\python27\\lib\\site-packages\\pymongo\\topology.pyc\u001b[0m in \u001b[0;36mselect_server\u001b[1;34m(self, selector, server_selection_timeout, address)\u001b[0m\n\u001b[0;32m    119\u001b[0m         return random.choice(self.select_servers(selector,\n\u001b[0;32m    120\u001b[0m                                                  \u001b[0mserver_selection_timeout\u001b[0m\u001b[1;33m,\u001b[0m\u001b[1;33m\u001b[0m\u001b[0m\n\u001b[1;32m--> 121\u001b[1;33m                                                  address))\n\u001b[0m\u001b[0;32m    122\u001b[0m \u001b[1;33m\u001b[0m\u001b[0m\n\u001b[0;32m    123\u001b[0m     def select_server_by_address(self, address,\n",
      "\u001b[1;32mc:\\python27\\lib\\site-packages\\pymongo\\topology.pyc\u001b[0m in \u001b[0;36mselect_servers\u001b[1;34m(self, selector, server_selection_timeout, address)\u001b[0m\n\u001b[0;32m     95\u001b[0m                 \u001b[1;32mif\u001b[0m \u001b[0mserver_timeout\u001b[0m \u001b[1;33m==\u001b[0m \u001b[1;36m0\u001b[0m \u001b[1;32mor\u001b[0m \u001b[0mnow\u001b[0m \u001b[1;33m>\u001b[0m \u001b[0mend_time\u001b[0m\u001b[1;33m:\u001b[0m\u001b[1;33m\u001b[0m\u001b[0m\n\u001b[0;32m     96\u001b[0m                     raise ServerSelectionTimeoutError(\n\u001b[1;32m---> 97\u001b[1;33m                         self._error_message(selector))\n\u001b[0m\u001b[0;32m     98\u001b[0m \u001b[1;33m\u001b[0m\u001b[0m\n\u001b[0;32m     99\u001b[0m                 \u001b[0mself\u001b[0m\u001b[1;33m.\u001b[0m\u001b[0m_ensure_opened\u001b[0m\u001b[1;33m(\u001b[0m\u001b[1;33m)\u001b[0m\u001b[1;33m\u001b[0m\u001b[0m\n",
      "\u001b[1;31mServerSelectionTimeoutError\u001b[0m: localhost:27017: [Errno 10061] 無法連線，因為目標電腦拒絕連線。"
     ]
    }
   ],
   "source": [
    "import pymongo\n",
    "from pymongo import MongoClient\n",
    "client = MongoClient('mongodb://localhost:27017')\n",
    "db = client['play_41']  #選擇database\n",
    "collect = db['data41']  #選擇database.collection\n",
    "\n",
    "collect.update({'_id':'100116911'}, {\"$set\": {'classification-ipc-main-classification':'G06F12/02'}})\n",
    "\n"
   ]
  }
 ],
 "metadata": {
  "kernelspec": {
   "display_name": "Python 2",
   "language": "python",
   "name": "python2"
  },
  "language_info": {
   "codemirror_mode": {
    "name": "ipython",
    "version": 2
   },
   "file_extension": ".py",
   "mimetype": "text/x-python",
   "name": "python",
   "nbconvert_exporter": "python",
   "pygments_lexer": "ipython2",
   "version": "2.7.10"
  }
 },
 "nbformat": 4,
 "nbformat_minor": 0
}
