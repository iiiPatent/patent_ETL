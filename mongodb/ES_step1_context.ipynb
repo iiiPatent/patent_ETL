{
 "cells": [
  {
   "cell_type": "code",
   "execution_count": 1,
   "metadata": {
    "collapsed": false
   },
   "outputs": [],
   "source": [
    "#加入ip\n",
    "def original_dic():\n",
    "    dic = {'DIM':'', 'disclosure':'', 'abstract':'', 'general-chemistry':'', 'file-reference-id':'',\n",
    "           'case_code':'', 'abst-solution':'', 'title':'', 'tech-problem':'', 'background-art':'',\n",
    "           'description-of-drawings':'', 'description':'', 'mode-for-invention':'',\n",
    "           'abstract-dtext':'', 'claim-text':'', 'main-use':'', 'description-of-element':'', \n",
    "           'figure-drawings':'', 'abst-problem':'', 'advantageous-effects':'', 'tech-solution':'',\n",
    "           'claim':'', 'technical-field':'', 'claims':'', 'sequence-list-text':'', 'drawings':'', \n",
    "          'classification-ipc-main-classification':'', 'classification-ipc-further-classification':'',\n",
    "         'classification-locarno-main-classification':'', 'classification-locarno-further-classification':''}\n",
    "    return dic\n",
    "\n",
    "def original_ary():\n",
    "    ary = ['DIM', 'claim', 'abstract', 'general-chemistry', 'file-reference-id', 'case_code',\n",
    "           'abst-solution', 'drawings', 'title', 'classification-locarno-further-classification',\n",
    "           'classification-locarno-main-classification', 'claim-text', 'background-art', \n",
    "           'description-of-drawings', 'description', 'mode-for-invention', 'abstract-dtext', \n",
    "           'classification-ipc-main-classification', 'main-use', 'disclosure', \n",
    "           'description-of-element', 'tech-problem', 'classification-ipc-further-classification', \n",
    "           'advantageous-effects', 'abst-problem', 'figure-drawings', 'tech-solution', 'claims',\n",
    "           'sequence-list-text', 'technical-field']\n",
    "    return ary"
   ]
  },
  {
   "cell_type": "code",
   "execution_count": 2,
   "metadata": {
    "collapsed": true
   },
   "outputs": [],
   "source": [
    "#step2\n",
    "def spec(soup):\n",
    "    spec_dic = {'id':'', 'lang':'', 'country':'', 'file':'', 'package-num':'', 'receive-num':'', 'receive-date':'',\n",
    "                'dtd-version':'', 'case-code':'', 'filing-date':'', 'application-num':'', 'ipc-mark':'', 'loc-mark':'',\n",
    "                'office-num':'', 'status':''}\n",
    "    if soup.select('specification'):\n",
    "        spec = soup.select('specification')[0]\n",
    "        for att in spec.attrs:\n",
    "            spec_dic[att.encode('utf-8')] = spec[att].encode('utf-8')\n",
    "            spec_dic['_id'] = spec['application-num']\n",
    "    elif soup.select('invention-specification'):\n",
    "        spec = soup.select('invention-specification')[0]\n",
    "        for att in spec.attrs:\n",
    "            spec_dic[att.encode('utf-8')] = spec[att].encode('utf-8')\n",
    "            spec_dic['_id'] = spec['application-num']\n",
    "    elif soup.select('design-specification'):\n",
    "        spec = soup.select('design-specification')[0]\n",
    "        for att in spec.attrs:\n",
    "            spec_dic[att.encode('utf-8')] = spec[att].encode('utf-8')\n",
    "            spec_dic['_id'] = spec['application-num']\n",
    "    elif soup.select('utility-model-specification'):\n",
    "        spec = soup.select('utility-model-specification')[0]\n",
    "        for att in spec.attrs:\n",
    "            spec_dic[att.encode('utf-8')] = spec[att].encode('utf-8')\n",
    "            spec_dic['_id'] = spec['application-num']\n",
    "    return spec_dic\n",
    "\n",
    "#     以下code比較精簡但效率不好\n",
    "#     ary_spec = ['specification','invention-specification','design-specification','utility-model-specification']\n",
    "#     for i in range(0,3):\n",
    "#         if soup.select(ary_spec[i]):\n",
    "#             spec = soup.select(ary_spec[i])[0]\n",
    "#             for att in spec.attrs:\n",
    "#                 spec_dic[att.encode('utf-8')] = spec[att].encode('utf-8')\n",
    "#                 spec_dic['_id'] = spec['application-num']\n",
    "#     return spec_dic"
   ]
  },
  {
   "cell_type": "code",
   "execution_count": 8,
   "metadata": {
    "collapsed": false
   },
   "outputs": [],
   "source": [
    "#step3\n",
    "路徑方法\n",
    "import os, sys\n",
    "fff = open('E:/patent_data/.txt','w')\n",
    "path = \"E:/patent_data/41\" #所有擋案的路徑\n",
    "\n",
    "PatentPubXML_list = os.listdir( path )\n",
    "for PatentPubXML_040008 in PatentPubXML_list:\n",
    "    DMI_list = os.listdir(path +'\\\\'+ PatentPubXML_040008)  #DMI_list = ['4008M448872', '4008M448873',.....]\n",
    "    try:\n",
    "        for DMI in DMI_list:  #DMI = #4008M448872\n",
    "            xml_list = os.listdir(path +'\\\\'+ PatentPubXML_040008 + '\\\\' + DMI)\n",
    "            for xml in xml_list:\n",
    "                if os.path.splitext(xml)[-1] == '.xml':  #xml = 101217907-A0305.xml\n",
    "                    route = path + '/' + PatentPubXML_040008 + '/' + DMI + '/' + xml\n",
    "                    final_route = route +','+ DMI[4]\n",
    "                    #print final_route\n",
    "\n",
    "                    fff.write(final_route + '\\n')\n",
    "    except WindowsError:\n",
    "        pass\n",
    "    except:\n",
    "        print 'other except!!!'\n",
    "\n",
    "fff.close()"
   ]
  },
  {
   "cell_type": "code",
   "execution_count": 3,
   "metadata": {
    "collapsed": true
   },
   "outputs": [],
   "source": [
    "#step4 把換行符號拿掉\n",
    "#建立read_file方法，參數是xml_route檔案路徑\n",
    "from bs4 import BeautifulSoup as bs\n",
    "def read_file(path_and_dim):  #放1279618.xml, D\n",
    "    dic = original_dic()   #把dic清空\n",
    "    ary = original_ary()   \n",
    "    route = path_and_dim.split(',')[0]\n",
    "    f = open(route,'r')\n",
    "    soup = bs(f.read())\n",
    "    dic.update({'DIM':path_and_dim.split(',')[1].encode('utf-8')})\n",
    "    #dic['DIM'] = path_and_dim.split(',')[1]\n",
    "    for i in range(0,26):\n",
    "        if soup.select(ary[i]):\n",
    "            ss =''\n",
    "            for a in soup.select(ary[i]):\n",
    "                ss += a.text.strip().encode('utf-8')\n",
    "            dic[ary[i]] = ss.replace('\\n','')\n",
    "    if len(spec(soup)) != 0:\n",
    "        dic.update(spec(soup))\n",
    "    else:\n",
    "        print 'No spec:' + path_and_dim\n",
    "    \n",
    "    return dic"
   ]
  },
  {
   "cell_type": "code",
   "execution_count": 6,
   "metadata": {
    "collapsed": false
   },
   "outputs": [],
   "source": [
    "#dic = read_file('E:/patent_data/40/PatentPubXML_040025/4025I407630/096137619-A0305.xml,I')\n",
    "#print len(dic)"
   ]
  },
  {
   "cell_type": "code",
   "execution_count": 51,
   "metadata": {
    "collapsed": false,
    "scrolled": true
   },
   "outputs": [],
   "source": [
    "#for testing\n",
    "# path_file = open('E:/patent_data/testpath.txt','r')\n",
    "# #count = 0\n",
    "\n",
    "# ff = path_file.read().strip()\n",
    "# #print ff\n",
    "# doc = read_file(ff)\n",
    "# #rint len(doc)\n",
    "# for key in doc:\n",
    "#     print key,doc[key]\n",
    "#     #rint '='*100\n",
    "    \n",
    "# #rint doc\n",
    "# #count += 1\n",
    "    \n",
    "# #print count  #成功進筆數\n",
    "# path_file.close()"
   ]
  },
  {
   "cell_type": "code",
   "execution_count": 53,
   "metadata": {
    "collapsed": false
   },
   "outputs": [],
   "source": [
    "# from elasticsearch import Elasticsearch\n",
    "# import elasticsearch\n",
    "# es = Elasticsearch('10.120.30.10:9200')\n",
    "# print es\n",
    "# body={\"bingo\":\"cool\"}\n",
    "# #es.index(index=\"book1\", doc_type=\"desk1\", id=doc['_id'], body=doc, request_timeout=0.2, ignore=400)\n",
    "# try:\n",
    "#     es.index(index=\"book1\", doc_type=\"desk1\", id=doc['_id'], body=doc, request_timeout=0.1, ignore=400)\n",
    "#     count += 1\n",
    "# except elasticsearch.exceptions.ConnectionError:\n",
    "#     print 'timeout:' + path_and_dim"
   ]
  },
  {
   "cell_type": "code",
   "execution_count": 4,
   "metadata": {
    "collapsed": false
   },
   "outputs": [
    {
     "name": "stdout",
     "output_type": "stream",
     "text": [
      "成功筆數:204677\n"
     ]
    },
    {
     "name": "stderr",
     "output_type": "stream",
     "text": [
      "C:\\Users\\BigData\\Anaconda2\\lib\\site-packages\\bs4\\__init__.py:166: UserWarning: No parser was explicitly specified, so I'm using the best available HTML parser for this system (\"lxml\"). This usually isn't a problem, but if you run this code on another system, or in a different virtual environment, it may use a different parser and behave differently.\n",
      "\n",
      "To get rid of this warning, change this:\n",
      "\n",
      " BeautifulSoup([your markup])\n",
      "\n",
      "to this:\n",
      "\n",
      " BeautifulSoup([your markup], \"lxml\")\n",
      "\n",
      "  markup_type=markup_type))\n"
     ]
    }
   ],
   "source": [
    "#新增資料  一次塞所有資料\n",
    "不要點\n",
    "from elasticsearch import Elasticsearch\n",
    "import elasticsearch\n",
    "es = Elasticsearch('10.120.26.16:9200')\n",
    "\n",
    "path_file = open('E:\\\\patent_data\\\\es\\\\final_context_path.txt','r') \n",
    "count = 0\n",
    "ff = open('e:/step1_context.txt','w')\n",
    "for line in path_file.readlines():\n",
    "    path_and_dim = line.strip()\n",
    "    doc = read_file(path_and_dim)\n",
    "\n",
    "    try:\n",
    "        es.index(index=\"henry\", doc_type=\"ray\", id=doc['_id'], body=doc, request_timeout=20, ignore=400)\n",
    "        count += 1\n",
    "    except elasticsearch.exceptions.ConnectionError:\n",
    "        print 'timeout:' + path_and_dim\n",
    "        ff.write('timeout:' + path_and_dim + '\\n')\n",
    "        pass\n",
    "    except:\n",
    "        print 'error:' + path_and_dim\n",
    "        ff.write('error:' + path_and_dim + '\\n')\n",
    "        pass\n",
    "ff.write('=================================================\\n')\n",
    "ff.write('成功筆數:'+str(count)+'\\n')\n",
    "\n",
    "print '成功筆數:'+str(count)  #成功進筆數\n",
    "ff.close()\n",
    "path_file.close()"
   ]
  },
  {
   "cell_type": "code",
   "execution_count": 54,
   "metadata": {
    "collapsed": false
   },
   "outputs": [],
   "source": [
    "# for i in doc:\n",
    "#     print doc[i].decode('utf-8')"
   ]
  },
  {
   "cell_type": "code",
   "execution_count": 18,
   "metadata": {
    "collapsed": false
   },
   "outputs": [
    {
     "name": "stdout",
     "output_type": "stream",
     "text": [
      "_id重複: E:/patent_data/42/PatentPubXML_042002/4202D165450/102306072-A0305.xml,D\n",
      "_id重複: E:/patent_data/42/PatentPubXML_042019/4219I490473/101100273-A0305.xml,I\n",
      "57623\n"
     ]
    }
   ],
   "source": [
    "##step5 存進db\n",
    "import pymongo\n",
    "from pymongo import MongoClient\n",
    "client = MongoClient('mongodb://localhost:27017')\n",
    "db = client['']  #選擇database\n",
    "collect = db['']  #選擇database.collection\n",
    "\n",
    "path_file = open('E:/patent_data/path_list_42.txt','r')\n",
    "count = 0\n",
    "for line in path_file.readlines():\n",
    "    path_and_dim = line.strip()\n",
    "    dic = read_file(path_and_dim)\n",
    "    #print len(dic)\n",
    "    try:\n",
    "        collect.insert_one(dic)\n",
    "        count += 1\n",
    "    except pymongo.errors.DuplicateKeyError: #_id重複 (application-num)\n",
    "        print '_id重複: ' + path_and_dim\n",
    "        pass\n",
    "    \n",
    "    #print count,  dic['application-num'], path_and_dim\n",
    "print count  #成功進筆數\n",
    "path_file.close()\n",
    "\n",
    "#可能出以下東西\n",
    "#No spec:  抓不到specification, 可能原始檔有問題(亂碼)\n",
    "#'_id重複:'"
   ]
  },
  {
   "cell_type": "markdown",
   "metadata": {
    "collapsed": true
   },
   "source": [
    "特殊的\n",
    "utility-model-specification\n",
    "E:/patent_data/PatentPubXML_040011/4011M450881/101224447-A0305.xml,M"
   ]
  }
 ],
 "metadata": {
  "kernelspec": {
   "display_name": "Python 2",
   "language": "python",
   "name": "python2"
  },
  "language_info": {
   "codemirror_mode": {
    "name": "ipython",
    "version": 2
   },
   "file_extension": ".py",
   "mimetype": "text/x-python",
   "name": "python",
   "nbconvert_exporter": "python",
   "pygments_lexer": "ipython2",
   "version": "2.7.10"
  }
 },
 "nbformat": 4,
 "nbformat_minor": 0
}
