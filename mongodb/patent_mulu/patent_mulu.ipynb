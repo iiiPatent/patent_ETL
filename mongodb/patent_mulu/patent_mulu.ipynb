{
 "cells": [
  {
   "cell_type": "code",
   "execution_count": 2,
   "metadata": {
    "collapsed": false
   },
   "outputs": [],
   "source": [
    "def original():\n",
    "    s = '''tw-patent-grant_tw-bibliographic-data-grant_parties_applicants_applicant_addressbook_chinese-name_first-name\n",
    "tw-patent-grant_tw-bibliographic-data-grant_publication-reference_document-id_doc-number\n",
    "tw-patent-grant_tw-bibliographic-data-grant_invention-title_english-title_#text\n",
    "tw-patent-grant_tw-bibliographic-data-grant_classification-locarno_main-classification_#text\n",
    "tw-patent-grant_tw-bibliographic-data-grant_parties_agents_agent_addressbook_english-name_first-name\n",
    "tw-patent-grant_tw-bibliographic-data-grant_isuno\n",
    "tw-patent-grant_tw-bibliographic-data-grant_invention-title_chinese-title_sub\n",
    "tw-patent-grant_tw-bibliographic-data-grant_tw-bio-deposit_bio-accno\n",
    "tw-patent-grant_tw-bibliographic-data-grant_tw-bio-deposit_depositary_text\n",
    "tw-patent-grant_tw-bibliographic-data-grant_invention-title_english-title_sub\n",
    "tw-patent-grant_tw-bibliographic-data-grant_application-publication-reference_document-id_doc-number\n",
    "tw-patent-grant_tw-bibliographic-data-grant_examiners_examiner_chinese-name_first-name\n",
    "tw-patent-grant_tw-bibliographic-data-grant_volno\n",
    "tw-patent-grant_tw-bibliographic-data-grant_parties_applicants_applicant_addressbook_english-name_middle-name\n",
    "tw-patent-grant_claims\n",
    "tw-patent-grant_tw-bibliographic-data-grant_refs_ref_kind\n",
    "tw-patent-grant_drawings_drawing-description_p_#text\n",
    "tw-patent-grant_tw-bibliographic-data-grant_note\n",
    "tw-patent-grant_tw-bibliographic-data-grant_parties_inventors_inventor_addressbook_english-name_middle-name\n",
    "tw-patent-grant_drawings_drawing-description_p_p_b\n",
    "tw-patent-grant_tw-bibliographic-data-grant_refs_ref_country\n",
    "tw-patent-grant_tw-bibliographic-data-grant_parties_agents_agent_addressbook_address\n",
    "tw-patent-grant_drawings_drawing-description_p_p_i\n",
    "tw-patent-grant_tw-bibliographic-data-grant_application-publication-reference_document-id_date\n",
    "tw-patent-grant_drawings_drawing-description_p_p_u\n",
    "tw-patent-grant_tw-bibliographic-data-grant_classification-ipc_main-classification_#text\n",
    "tw-patent-grant_tw-bibliographic-data-grant_parties_applicants_applicant_addressbook_english-name_first-name\n",
    "tw-patent-grant_tw-bibliographic-data-grant_certificate-number_document-id_date\n",
    "tw-patent-grant_tw-bibliographic-data-grant_parties_applicants_applicant_addressbook_chinese-name_last-name\n",
    "tw-patent-grant_tw-bibliographic-data-grant_classification-ipc_further-classification\n",
    "tw-patent-grant_tw-bibliographic-data-grant_publication-reference_document-id_kind\n",
    "tw-patent-grant_tw-bibliographic-data-grant_parties_applicants_applicant_addressbook_address\n",
    "tw-patent-grant_drawings_drawing-description_p_i\n",
    "tw-patent-grant_tw-bibliographic-data-grant_application-reference_document-id_kind\n",
    "tw-patent-grant_drawings_drawing-description_p_p_br\n",
    "tw-patent-grant_tw-bibliographic-data-grant_priority-claims_priority-claim_doc-number\n",
    "tw-patent-grant_tw-bibliographic-data-grant_invention-title_chinese-title\n",
    "tw-patent-grant_claims_claim_p_img\n",
    "tw-patent-grant_tw-bibliographic-data-grant_refs\n",
    "tw-patent-grant_tw-bibliographic-data-grant_priority-claims_priority-claim_country\n",
    "tw-patent-grant_claims_claim_p_br\n",
    "tw-patent-grant_drawings_drawing-description_p_br\n",
    "tw-patent-grant_tw-bibliographic-data-grant_parties_agents_agent\n",
    "tw-patent-grant_tw-bibliographic-data-grant_parties_applicants_applicant_addressbook_english-country\n",
    "tw-patent-grant_tw-bibliographic-data-grant_certificate-number_document-id_kind\n",
    "tw-patent-grant_tw-bibliographic-data-grant_parties_inventors_inventor_addressbook_chinese-name_last-name\n",
    "tw-patent-grant_drawings_drawing-description_p_p_sub\n",
    "tw-patent-grant_claims_claim_p_sub\n",
    "tw-patent-grant_tw-bibliographic-data-grant_refs_ref\n",
    "tw-patent-grant_claims_claim_p_figure\n",
    "tw-patent-grant_tw-bibliographic-data-grant_parties_agents_agent_addressbook_english-name_middle-name\n",
    "tw-patent-grant_tw-bibliographic-data-grant_application-reference_document-id_doc-number\n",
    "tw-patent-grant_tw-bibliographic-data-grant_application-reference_document-id_date\n",
    "tw-patent-grant_tw-bibliographic-data-grant_kindcode\n",
    "tw-patent-grant_tw-bibliographic-data-grant_examiners_examiner_chinese-name_last-name\n",
    "tw-patent-grant_drawings_drawing-description_p_p_b_i\n",
    "tw-patent-grant_tw-bibliographic-data-grant_classification-ipc_further-classification_#text\n",
    "tw-patent-grant_tw-bibliographic-data-grant_orefs_oref\n",
    "tw-patent-grant_tw-bibliographic-data-grant_tw-bio-deposit_date\n",
    "tw-patent-grant_tw-bibliographic-data-grant_parties_agents_agent_addressbook_english-name_last-name\n",
    "tw-patent-grant_tw-bibliographic-data-grant_parties_agents\n",
    "tw-patent-grant_tw-bibliographic-data-grant_parties_inventors_inventor_addressbook_english-name_first-name\n",
    "tw-patent-grant_drawings_drawing-description_p_p_img\n",
    "tw-patent-grant_claims_claim_p_#text\n",
    "tw-patent-grant_tw-bibliographic-data-grant_parties_inventors_inventor_addressbook_english-country\n",
    "tw-patent-grant_tw-bibliographic-data-grant_invention-title_english-title\n",
    "tw-patent-grant_tw-bibliographic-data-grant_tw-bio-deposit_depositary_country\n",
    "tw-patent-grant_drawings_drawing-description_p_p_#text\n",
    "tw-patent-grant_claims_claim_p_sup_i\n",
    "tw-patent-grant_claims_claim_p_p_br\n",
    "tw-patent-grant_drawings_drawing-description_p_img\n",
    "tw-patent-grant_tw-bibliographic-data-grant_parties_inventors_inventor_addressbook_chinese-name_first-name\n",
    "tw-patent-grant_claims_claim_p_i\n",
    "tw-patent-grant_claims_claim_p_b\n",
    "tw-patent-grant_tw-bibliographic-data-grant_publication-reference_document-id_date\n",
    "tw-patent-grant_tw-bibliographic-data-grant_certificate-number_document-id_doc-number\n",
    "tw-patent-grant_tw-bibliographic-data-grant_parties_applicants_applicant_addressbook_english-address\n",
    "tw-patent-grant_drawings_drawing-description_p_b\n",
    "tw-patent-grant_tw-bibliographic-data-grant_parties_inventors_inventor_addressbook_english-name_last-name\n",
    "tw-patent-grant_tw-bibliographic-data-grant_parties_applicants_applicant_addressbook_english-name_last-name\n",
    "tw-patent-grant_tw-bibliographic-data-grant_parties_inventors_inventor_addressbook_english-address\n",
    "tw-patent-grant_tw-bibliographic-data-grant_parties_agents_agent_addressbook_chinese-name_last-name\n",
    "tw-patent-grant_tw-bibliographic-data-grant_application-publication-reference_document-id_kind\n",
    "tw-patent-grant_tw-bibliographic-data-grant_priority-claims_priority-claim_date\n",
    "tw-patent-grant_tw-bibliographic-data-grant_parties_inventors_inventor_addressbook_address\n",
    "tw-patent-grant_drawings_drawing-description_p_sub\n",
    "tw-patent-grant_tw-bibliographic-data-grant_invention-title_chinese-title_#text\n",
    "tw-patent-grant_tw-bibliographic-data-grant_parties_inventors_inventor\n",
    "tw-patent-grant_drawings_figure\n",
    "tw-patent-grant_tw-bibliographic-data-grant_refs_ref_doc-number\n",
    "tw-patent-grant_claims_claim\n",
    "tw-patent-grant_drawings_drawing-description_p_sub_b\n",
    "tw-patent-grant_tw-bibliographic-data-grant_parties_agents_agent_addressbook_chinese-name_first-name\n",
    "tw-patent-grant_drawings'''\n",
    "    first = s.split('\\n')\n",
    "    #print len(first_dic)\n",
    "    #print first\n",
    "    firstdic = {}\n",
    "    for i in range(0,94):\n",
    "        firstdic.update({first[i].encode('utf-8'):''})\n",
    "    return firstdic"
   ]
  },
  {
   "cell_type": "code",
   "execution_count": 2,
   "metadata": {
    "collapsed": false
   },
   "outputs": [],
   "source": [
    "#print original()"
   ]
  },
  {
   "cell_type": "code",
   "execution_count": 3,
   "metadata": {
    "collapsed": false
   },
   "outputs": [],
   "source": [
    "#方法\n",
    "import xmltodict\n",
    " \n",
    "# It doesn't work with Python 3! Read on for the solution!\n",
    "def convert(xml_file, xml_attribs=True):\n",
    "    with open(xml_file) as f:\n",
    "        d = xmltodict.parse(f, xml_attribs=xml_attribs)\n",
    "        return d"
   ]
  },
  {
   "cell_type": "code",
   "execution_count": 4,
   "metadata": {
    "collapsed": false
   },
   "outputs": [],
   "source": [
    "#方法\n",
    "from json import loads, dumps\n",
    "from collections import OrderedDict\n",
    "\n",
    "def to_dict(input_ordered_dict):\n",
    "    return loads(dumps(input_ordered_dict))"
   ]
  },
  {
   "cell_type": "code",
   "execution_count": 5,
   "metadata": {
    "collapsed": true
   },
   "outputs": [],
   "source": [
    "#try  recursive\n",
    "#方法\n",
    "def dickeys(dic):\n",
    "    l = []\n",
    "    for key in dic:\n",
    "        if type(dic[key]) != type({}):\n",
    "            if '@' not in key and 'p' not in key and '#text' not in key:\n",
    "                l.append(key)\n",
    "        else:\n",
    "            for a in dickeys(dic[key]):\n",
    "                l.append(key+'_'+a)\n",
    "    return l"
   ]
  },
  {
   "cell_type": "code",
   "execution_count": 6,
   "metadata": {
    "collapsed": true
   },
   "outputs": [],
   "source": [
    "#叫三個方法\n",
    "def file_to_keyary(file_name):\n",
    "    d = convert(file_name) #原始檔轉成dic\n",
    "    ddd= to_dict(d)  #再轉成dic\n",
    "    key_ary = dickeys(ddd)     #抓出所有key\n",
    "    return key_ary"
   ]
  },
  {
   "cell_type": "code",
   "execution_count": 7,
   "metadata": {
    "collapsed": false
   },
   "outputs": [],
   "source": [
    "#行阿\n",
    "#目前還不錯，但有空白行\n",
    "from bs4 import BeautifulSoup as bs\n",
    "def build_dic(file_name):\n",
    "    fi = open(file_name,'r')\n",
    "    xml = bs(fi.read())\n",
    "    fi.close()    \n",
    "    ##\n",
    "    dic = original()\n",
    "    ##\n",
    "    key_ary = file_to_keyary(file_name)\n",
    "    for keys in key_ary:\n",
    "        w = ' > '.join(keys.split('_'))\n",
    "        if len(xml.select(w)) != 0:\n",
    "            dic_key = keys.encode('utf-8')\n",
    "            #dic.update({dic_key:''})\n",
    "            for i in xml.select(w):\n",
    "#                 s = ''\n",
    "#                 s += i.text.strip().encode('utf-8')\n",
    "#                 s''.join(i.split(''))\n",
    "                \n",
    "                dic[dic_key] += ' '.join(i.text.encode('utf-8').split('\\n'))\n",
    "                \n",
    "    dic['_id'] = xml.select('application-reference')[0].select('doc-number')[0].text.strip().encode('utf-8')\n",
    "#                 dic[dic_key] += i.text.strip().encode('utf-8')\n",
    "    return dic\n"
   ]
  },
  {
   "cell_type": "code",
   "execution_count": 10,
   "metadata": {
    "collapsed": false,
    "scrolled": true
   },
   "outputs": [
    {
     "name": "stdout",
     "output_type": "stream",
     "text": [
      "_id重複: E:/patent_data/catalog/cat42/42019/101100273.xml\n",
      "_id重複: E:/patent_data/catalog/cat42/42029/097129387.xml\n",
      "0\n"
     ]
    }
   ],
   "source": [
    "#沒問題的啦\n",
    "import pymongo\n",
    "from pymongo import MongoClient\n",
    "client = MongoClient('mongodb://localhost:27017')\n",
    "db = client['mulu_42']  #選擇database\n",
    "collect = db['data42']  #選擇database.collection\n",
    "\n",
    "\n",
    "fa = open('E:\\\\patent_data\\\\catalog\\\\catalog_path42.txt','r')\n",
    "count = 0\n",
    "for line in fa.readlines():\n",
    "    path = line.strip()\n",
    "    try:\n",
    "        \n",
    "        finaldic = build_dic(path)\n",
    "        collect.insert_one(finaldic)\n",
    "    except pymongo.errors.DuplicateKeyError: #_id重複 (application-num)\n",
    "        print '_id重複: ' + path\n",
    "        pass\n",
    "\n",
    "    except:\n",
    "        print 'error:' + path\n",
    "        count += 1\n",
    "        pass\n",
    "\n",
    "print count\n",
    "fa.close()  "
   ]
  },
  {
   "cell_type": "code",
   "execution_count": 1,
   "metadata": {
    "collapsed": false,
    "scrolled": true
   },
   "outputs": [],
   "source": [
    "#進去吧\n",
    "# import pymongo\n",
    "# from pymongo import MongoClient\n",
    "# client = MongoClient('mongodb://localhost:27017')\n",
    "# db = client['mulu_40']  #選擇database\n",
    "# collect = db['mulu40']  #選擇database.collection\n",
    "\n",
    "# # for dic in collect.find():\n",
    "# #     print dic\n",
    "\n",
    "\n",
    "# fa = open('E:\\\\patent_data\\\\catalog\\\\catalog_path40.txt','r')\n",
    "# count = 0\n",
    "# for line in fa.readlines():\n",
    "#     path = line.strip()\n",
    "    \n",
    "#     finaldic = build_dic(path)\n",
    "#     #print finaldic\n",
    "#     try:\n",
    "#         collect.insert_one(finaldic)\n",
    "#     except pymongo.errors.DuplicateKeyError: #_id重複 (application-num)\n",
    "#         print '_id重複: ' + path\n",
    "#         pass\n",
    "    \n",
    "#     except:\n",
    "#         print 'error:' + path\n",
    "\n",
    "#     count += 1\n",
    "#     print count\n",
    "# fa.close()  "
   ]
  },
  {
   "cell_type": "code",
   "execution_count": null,
   "metadata": {
    "collapsed": false
   },
   "outputs": [],
   "source": [
    "\n",
    "# import pymongo\n",
    "# from pymongo import MongoClient\n",
    "# client = MongoClient('mongodb://localhost:27017')\n",
    "# db = client['mulu_40']  #選擇database\n",
    "# collect = db['mulu40']  #選擇database.collection\n",
    "\n",
    "# for dic in collect.find({'_id':'094121861'}):\n",
    "#     print len(dic)\n",
    "#     for key in dic:\n",
    "#         print key\n",
    "#         print dic[key]\n",
    "#         print '='*100\n",
    "    #print dic['tw-patent-grant_tw-bibliographic-data-grant_parties_inventors_inventor']"
   ]
  },
  {
   "cell_type": "markdown",
   "metadata": {},
   "source": [
    "-下面不看\n",
    "-下面不看\n",
    "-下面不看\n",
    "-下面不看\n",
    "-下面不看\n",
    "-下面不看\n",
    "-下面不看\n",
    "-下面不看"
   ]
  },
  {
   "cell_type": "code",
   "execution_count": 30,
   "metadata": {
    "collapsed": false
   },
   "outputs": [
    {
     "name": "stdout",
     "output_type": "stream",
     "text": [
      "[(11, 7), (13, 14)]\n"
     ]
    }
   ],
   "source": [
    "l = [(1,2),(4,6)]\n",
    "ll = [(10,5),(9,8)]\n",
    "print map(lambda (x1,x2),(y1,y2): (x1+y1,x2+y2),l,ll)"
   ]
  },
  {
   "cell_type": "code",
   "execution_count": 25,
   "metadata": {
    "collapsed": false
   },
   "outputs": [
    {
     "name": "stdout",
     "output_type": "stream",
     "text": [
      "Help on built-in function reduce in module __builtin__:\n",
      "\n",
      "reduce(...)\n",
      "    reduce(function, sequence[, initial]) -> value\n",
      "    \n",
      "    Apply a function of two arguments cumulatively to the items of a sequence,\n",
      "    from left to right, so as to reduce the sequence to a single value.\n",
      "    For example, reduce(lambda x, y: x+y, [1, 2, 3, 4, 5]) calculates\n",
      "    ((((1+2)+3)+4)+5).  If initial is present, it is placed before the items\n",
      "    of the sequence in the calculation, and serves as a default when the\n",
      "    sequence is empty.\n",
      "\n",
      "None\n"
     ]
    }
   ],
   "source": [
    "print help(reduce)"
   ]
  }
 ],
 "metadata": {
  "kernelspec": {
   "display_name": "Python 2",
   "language": "python",
   "name": "python2"
  },
  "language_info": {
   "codemirror_mode": {
    "name": "ipython",
    "version": 2
   },
   "file_extension": ".py",
   "mimetype": "text/x-python",
   "name": "python",
   "nbconvert_exporter": "python",
   "pygments_lexer": "ipython2",
   "version": "2.7.10"
  }
 },
 "nbformat": 4,
 "nbformat_minor": 0
}
