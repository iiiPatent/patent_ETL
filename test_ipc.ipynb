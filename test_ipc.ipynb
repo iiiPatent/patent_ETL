{
 "cells": [
  {
   "cell_type": "code",
   "execution_count": 3,
   "metadata": {
    "collapsed": false,
    "scrolled": true
   },
   "outputs": [
    {
     "name": "stdout",
     "output_type": "stream",
     "text": [
      "6953 69317 76270\n",
      "76270\n"
     ]
    }
   ],
   "source": [
    "import pymongo\n",
    "from pymongo import MongoClient\n",
    "client = MongoClient('mongodb://localhost:27017')\n",
    "db = client['play_41']  #選擇database\n",
    "collect = db['data41']  #選擇database.collection\n",
    "cursor = collect.find({},{'classification-locarno-main-classification':1})\n",
    "\n",
    "ipc = 0\n",
    "nonipc = 0\n",
    "count = 0\n",
    "for i in cursor:\n",
    "    if i['classification-locarno-main-classification'] !='':\n",
    "        ipc += 1 \n",
    "    else:\n",
    "        nonipc += 1\n",
    "    count += 1\n",
    "print ipc, nonipc, ipc + nonipc \n",
    "print count\n",
    "    "
   ]
  },
  {
   "cell_type": "code",
   "execution_count": 5,
   "metadata": {
    "collapsed": false
   },
   "outputs": [
    {
     "name": "stdout",
     "output_type": "stream",
     "text": [
      "0 0 0\n",
      "76270\n"
     ]
    }
   ],
   "source": [
    "#判別loc和ipc兩個有一個\n",
    "import pymongo\n",
    "from pymongo import MongoClient\n",
    "client = MongoClient('mongodb://localhost:27017')\n",
    "db = client['play_41']  #選擇database\n",
    "collect = db['data41']  #選擇database.collection\n",
    "cursor = collect.find()\n",
    "\n",
    "ipc = 0\n",
    "nonipc = 0\n",
    "count = 0\n",
    "for i in cursor:\n",
    "#     if i['classification-ipc-main-classification'] =='':\n",
    "#         print i\n",
    "    if i['classification-locarno-main-classification'] =='' and i['classification-ipc-main-classification'] =='':\n",
    "        print i['_id']\n",
    "#     else:\n",
    "#         nonipc += 1\n",
    "    count += 1\n",
    "print ipc, nonipc, ipc + nonipc \n",
    "print count"
   ]
  },
  {
   "cell_type": "markdown",
   "metadata": {
    "collapsed": true
   },
   "source": [
    "亂碼碼碼碼碼!!!!!!!!!!!!!!!!!!!!!!!!!!!!!!!!!!!\n",
    "E:/patent_data/catalog/cat41/41018/099142874.xml\n",
    "E:/patent_data/catalog/cat41/41018/100116911.xml\n",
    "E:/patent_data/catalog/cat41/41018/100136373.xml\n",
    "E:/patent_data/catalog/cat41/41022/102305968.xml\n",
    "E:/patent_data/catalog/cat41/41022/103202318.xml"
   ]
  },
  {
   "cell_type": "code",
   "execution_count": 3,
   "metadata": {
    "collapsed": false
   },
   "outputs": [
    {
     "name": "stderr",
     "output_type": "stream",
     "text": [
      "c:\\python27\\lib\\site-packages\\ipykernel\\__main__.py:7: DeprecationWarning: update is deprecated. Use replace_one, update_one or update_many instead.\n"
     ]
    },
    {
     "data": {
      "text/plain": [
       "{u'n': 1, u'nModified': 1, u'ok': 1, 'updatedExisting': True}"
      ]
     },
     "execution_count": 3,
     "metadata": {},
     "output_type": "execute_result"
    }
   ],
   "source": [
    "#手動加上ipc或loc\n",
    "import pymongo\n",
    "from pymongo import MongoClient\n",
    "client = MongoClient('mongodb://localhost:27017')\n",
    "db = client['play_41']  #選擇database\n",
    "collect = db['data41']  #選擇database.collection\n",
    "\n",
    "collect.update({'_id':'100116911'}, {\"$set\": {'classification-ipc-main-classification':'G06F12/02'}})\n",
    "\n"
   ]
  }
 ],
 "metadata": {
  "kernelspec": {
   "display_name": "Python 2",
   "language": "python",
   "name": "python2"
  },
  "language_info": {
   "codemirror_mode": {
    "name": "ipython",
    "version": 2
   },
   "file_extension": ".py",
   "mimetype": "text/x-python",
   "name": "python",
   "nbconvert_exporter": "python",
   "pygments_lexer": "ipython2",
   "version": "2.7.10"
  }
 },
 "nbformat": 4,
 "nbformat_minor": 0
}
