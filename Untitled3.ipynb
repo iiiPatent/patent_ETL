{
 "cells": [
  {
   "cell_type": "code",
   "execution_count": 16,
   "metadata": {
    "collapsed": false
   },
   "outputs": [
    {
     "name": "stdout",
     "output_type": "stream",
     "text": [
      "['Free your mind.']\n",
      "Free your mind.\n"
     ]
    }
   ],
   "source": [
    "a = \"Free your \\\n",
    "mind.\"\n",
    "b = \"Welcome to the desert... of the real.\"\n",
    "c = \"What is real? How do you define real?\"\n",
    "d = \"There is no spoon.\"\n",
    " \n",
    "print a.encode('utf-8').split('\\n')\n",
    "print ''.join(a.encode('utf-8').split('\\n'))"
   ]
  }
 ],
 "metadata": {
  "kernelspec": {
   "display_name": "Python 2",
   "language": "python",
   "name": "python2"
  },
  "language_info": {
   "codemirror_mode": {
    "name": "ipython",
    "version": 2
   },
   "file_extension": ".py",
   "mimetype": "text/x-python",
   "name": "python",
   "nbconvert_exporter": "python",
   "pygments_lexer": "ipython2",
   "version": "2.7.10"
  }
 },
 "nbformat": 4,
 "nbformat_minor": 0
}
