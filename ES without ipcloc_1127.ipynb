{
 "cells": [
  {
   "cell_type": "code",
   "execution_count": 38,
   "metadata": {
    "collapsed": false
   },
   "outputs": [],
   "source": [
    "#step1\n",
    "def original_dic():\n",
    "    dic = {'DIM':'', 'disclosure':'', 'abstract':'', 'general-chemistry':'', 'file-reference-id':'', 'case_code':'', \n",
    "           'abst-solution':'', 'title':'', 'tech-problem':'', 'background-art':'', 'description-of-drawings':'', 'description':'', \n",
    "           'mode-for-invention':'', 'abstract-dtext':'', 'claim-text':'', 'main-use':'', 'description-of-element':'', \n",
    "           'figure-drawings':'', 'abst-problem':'', 'advantageous-effects':'', 'tech-solution':'', 'claim':'', \n",
    "           'technical-field':'', 'claims':'', 'sequence-list-text':'', 'drawings':''}\n",
    "    return dic\n",
    "\n",
    "def original_ary():\n",
    "    ary = ['DIM', 'claim', 'abstract', 'general-chemistry', 'file-reference-id', 'case_code',\n",
    "           'abst-solution', 'drawings', 'title', 'claim-text', 'background-art', 'description-of-drawings', \n",
    "           'description', 'mode-for-invention', 'abstract-dtext', 'main-use', 'disclosure', \n",
    "           'description-of-element', 'tech-problem', 'advantageous-effects', 'abst-problem', \n",
    "           'figure-drawings', 'tech-solution', 'claims', 'sequence-list-text', 'technical-field']\n",
    "    return ary"
   ]
  },
  {
   "cell_type": "code",
   "execution_count": 39,
   "metadata": {
    "collapsed": true
   },
   "outputs": [],
   "source": [
    "#step2\n",
    "def spec(soup):\n",
    "    spec_dic = {'id':'', 'lang':'', 'country':'', 'file':'', 'package-num':'', 'receive-num':'', 'receive-date':'',\n",
    "                'dtd-version':'', 'case-code':'', 'filing-date':'', 'application-num':'', 'ipc-mark':'', 'loc-mark':'',\n",
    "                'office-num':'', 'status':''}\n",
    "    if soup.select('specification'):\n",
    "        spec = soup.select('specification')[0]\n",
    "        for att in spec.attrs:\n",
    "            spec_dic[att.encode('utf-8')] = spec[att].encode('utf-8')\n",
    "            spec_dic['_id'] = spec['application-num']\n",
    "    elif soup.select('invention-specification'):\n",
    "        spec = soup.select('invention-specification')[0]\n",
    "        for att in spec.attrs:\n",
    "            spec_dic[att.encode('utf-8')] = spec[att].encode('utf-8')\n",
    "            spec_dic['_id'] = spec['application-num']\n",
    "    elif soup.select('design-specification'):\n",
    "        spec = soup.select('design-specification')[0]\n",
    "        for att in spec.attrs:\n",
    "            spec_dic[att.encode('utf-8')] = spec[att].encode('utf-8')\n",
    "            spec_dic['_id'] = spec['application-num']\n",
    "    elif soup.select('utility-model-specification'):\n",
    "        spec = soup.select('utility-model-specification')[0]\n",
    "        for att in spec.attrs:\n",
    "            spec_dic[att.encode('utf-8')] = spec[att].encode('utf-8')\n",
    "            spec_dic['_id'] = spec['application-num']\n",
    "    return spec_dic\n",
    "\n",
    "#     以下code比較精簡但效率不好\n",
    "#     ary_spec = ['specification','invention-specification','design-specification','utility-model-specification']\n",
    "#     for i in range(0,3):\n",
    "#         if soup.select(ary_spec[i]):\n",
    "#             spec = soup.select(ary_spec[i])[0]\n",
    "#             for att in spec.attrs:\n",
    "#                 spec_dic[att.encode('utf-8')] = spec[att].encode('utf-8')\n",
    "#                 spec_dic['_id'] = spec['application-num']\n",
    "#     return spec_dic"
   ]
  },
  {
   "cell_type": "code",
   "execution_count": 8,
   "metadata": {
    "collapsed": false
   },
   "outputs": [],
   "source": [
    "#step3\n",
    "路徑方法\n",
    "import os, sys\n",
    "fff = open('E:/patent_data/.txt','w')\n",
    "path = \"E:/patent_data/41\" #所有擋案的路徑\n",
    "\n",
    "PatentPubXML_list = os.listdir( path )\n",
    "for PatentPubXML_040008 in PatentPubXML_list:\n",
    "    DMI_list = os.listdir(path +'\\\\'+ PatentPubXML_040008)  #DMI_list = ['4008M448872', '4008M448873',.....]\n",
    "    try:\n",
    "        for DMI in DMI_list:  #DMI = #4008M448872\n",
    "            xml_list = os.listdir(path +'\\\\'+ PatentPubXML_040008 + '\\\\' + DMI)\n",
    "            for xml in xml_list:\n",
    "                if os.path.splitext(xml)[-1] == '.xml':  #xml = 101217907-A0305.xml\n",
    "                    route = path + '/' + PatentPubXML_040008 + '/' + DMI + '/' + xml\n",
    "                    final_route = route +','+ DMI[4]\n",
    "                    #print final_route\n",
    "\n",
    "                    fff.write(final_route + '\\n')\n",
    "    except WindowsError:\n",
    "        pass\n",
    "    except:\n",
    "        print 'other except!!!'\n",
    "\n",
    "fff.close()"
   ]
  },
  {
   "cell_type": "code",
   "execution_count": 42,
   "metadata": {
    "collapsed": true
   },
   "outputs": [],
   "source": [
    "#step4 把換行符號拿掉\n",
    "#建立read_file方法，參數是xml_route檔案路徑\n",
    "from bs4 import BeautifulSoup as bs\n",
    "def read_file(path_and_dim):  #放1279618.xml, D\n",
    "    dic = original_dic()   #把dic清空\n",
    "    ary = original_ary()   \n",
    "    route = path_and_dim.split(',')[0]\n",
    "    f = open(route,'r')\n",
    "    soup = bs(f.read())\n",
    "    dic.update({'DIM':path_and_dim.split(',')[1].encode('utf-8')})\n",
    "    #dic['DIM'] = path_and_dim.split(',')[1]\n",
    "    for i in range(0,26):\n",
    "        if soup.select(ary[i]):\n",
    "            ss =''\n",
    "            for a in soup.select(ary[i]):\n",
    "                ss += a.text.strip().encode('utf-8')\n",
    "            dic[ary[i]] = ss.replace('\\n','')\n",
    "    if len(spec(soup)) != 0:\n",
    "        dic.update(spec(soup))\n",
    "    else:\n",
    "        print 'No spec:' + path_and_dim\n",
    "    \n",
    "    return dic"
   ]
  },
  {
   "cell_type": "code",
   "execution_count": 52,
   "metadata": {
    "collapsed": false
   },
   "outputs": [],
   "source": [
    "# dic = read_file('E:/patent_data/40/PatentPubXML_040025/4025I407630/096137619-A0305.xml,I')\n",
    "# print len(dic)"
   ]
  },
  {
   "cell_type": "code",
   "execution_count": 51,
   "metadata": {
    "collapsed": false,
    "scrolled": true
   },
   "outputs": [],
   "source": [
    "#for testing\n",
    "# path_file = open('E:/patent_data/testpath.txt','r')\n",
    "# #count = 0\n",
    "\n",
    "# ff = path_file.read().strip()\n",
    "# #print ff\n",
    "# doc = read_file(ff)\n",
    "# #rint len(doc)\n",
    "# for key in doc:\n",
    "#     print key,doc[key]\n",
    "#     #rint '='*100\n",
    "    \n",
    "# #rint doc\n",
    "# #count += 1\n",
    "    \n",
    "# #print count  #成功進筆數\n",
    "# path_file.close()"
   ]
  },
  {
   "cell_type": "code",
   "execution_count": 53,
   "metadata": {
    "collapsed": false
   },
   "outputs": [],
   "source": [
    "# from elasticsearch import Elasticsearch\n",
    "# import elasticsearch\n",
    "# es = Elasticsearch('10.120.30.10:9200')\n",
    "# print es\n",
    "# body={\"bingo\":\"cool\"}\n",
    "# #es.index(index=\"book1\", doc_type=\"desk1\", id=doc['_id'], body=doc, request_timeout=0.2, ignore=400)\n",
    "# try:\n",
    "#     es.index(index=\"book1\", doc_type=\"desk1\", id=doc['_id'], body=doc, request_timeout=0.1, ignore=400)\n",
    "#     count += 1\n",
    "# except elasticsearch.exceptions.ConnectionError:\n",
    "#     print 'timeout:' + path_and_dim"
   ]
  },
  {
   "cell_type": "code",
   "execution_count": 51,
   "metadata": {
    "collapsed": false
   },
   "outputs": [
    {
     "name": "stderr",
     "output_type": "stream",
     "text": [
      "WARNING:elasticsearch:PUT http://10.120.26.16:9200/book/desk/102202865 [status:N/A request:0.001s]\n",
      "Traceback (most recent call last):\n",
      "  File \"build\\bdist.win-amd64\\egg\\elasticsearch\\connection\\http_urllib3.py\", line 78, in perform_request\n",
      "    response = self.pool.urlopen(method, url, body, retries=False, headers=self.headers, **kw)\n",
      "  File \"C:\\Users\\BigData\\Anaconda2\\lib\\site-packages\\urllib3\\connectionpool.py\", line 609, in urlopen\n",
      "    _stacktrace=sys.exc_info()[2])\n",
      "  File \"C:\\Users\\BigData\\Anaconda2\\lib\\site-packages\\urllib3\\util\\retry.py\", line 222, in increment\n",
      "    raise six.reraise(type(error), error, _stacktrace)\n",
      "  File \"C:\\Users\\BigData\\Anaconda2\\lib\\site-packages\\urllib3\\connectionpool.py\", line 559, in urlopen\n",
      "    body=body, headers=headers)\n",
      "  File \"C:\\Users\\BigData\\Anaconda2\\lib\\site-packages\\urllib3\\connectionpool.py\", line 353, in _make_request\n",
      "    conn.request(method, url, **httplib_request_kw)\n",
      "  File \"C:\\Users\\BigData\\Anaconda2\\lib\\httplib.py\", line 1053, in request\n",
      "    self._send_request(method, url, body, headers)\n",
      "  File \"C:\\Users\\BigData\\Anaconda2\\lib\\httplib.py\", line 1087, in _send_request\n",
      "    self.putrequest(method, url, **skips)\n",
      "  File \"C:\\Users\\BigData\\Anaconda2\\lib\\httplib.py\", line 935, in putrequest\n",
      "    raise CannotSendRequest()\n",
      "ProtocolError: ('Connection aborted.', CannotSendRequest())\n"
     ]
    },
    {
     "name": "stdout",
     "output_type": "stream",
     "text": [
      "error:E:/patent_data/40/PatentPubXML_040028/4028M463005/102210733-A0305.xml,M\n",
      "error:E:/patent_data/40/PatentPubXML_040028/4028M463008/102210741-A0305.xml,M"
     ]
    },
    {
     "name": "stderr",
     "output_type": "stream",
     "text": [
      "WARNING:elasticsearch:PUT http://10.120.26.16:9200/book/desk/102208524 [status:N/A request:0.000s]\n",
      "Traceback (most recent call last):\n",
      "  File \"build\\bdist.win-amd64\\egg\\elasticsearch\\connection\\http_urllib3.py\", line 78, in perform_request\n",
      "    response = self.pool.urlopen(method, url, body, retries=False, headers=self.headers, **kw)\n",
      "  File \"C:\\Users\\BigData\\Anaconda2\\lib\\site-packages\\urllib3\\connectionpool.py\", line 609, in urlopen\n",
      "    _stacktrace=sys.exc_info()[2])\n",
      "  File \"C:\\Users\\BigData\\Anaconda2\\lib\\site-packages\\urllib3\\util\\retry.py\", line 222, in increment\n",
      "    raise six.reraise(type(error), error, _stacktrace)\n",
      "  File \"C:\\Users\\BigData\\Anaconda2\\lib\\site-packages\\urllib3\\connectionpool.py\", line 559, in urlopen\n",
      "    body=body, headers=headers)\n",
      "  File \"C:\\Users\\BigData\\Anaconda2\\lib\\site-packages\\urllib3\\connectionpool.py\", line 353, in _make_request\n",
      "    conn.request(method, url, **httplib_request_kw)\n",
      "  File \"C:\\Users\\BigData\\Anaconda2\\lib\\httplib.py\", line 1053, in request\n",
      "    self._send_request(method, url, body, headers)\n",
      "  File \"C:\\Users\\BigData\\Anaconda2\\lib\\httplib.py\", line 1087, in _send_request\n",
      "    self.putrequest(method, url, **skips)\n",
      "  File \"C:\\Users\\BigData\\Anaconda2\\lib\\httplib.py\", line 935, in putrequest\n",
      "    raise CannotSendRequest()\n",
      "ProtocolError: ('Connection aborted.', CannotSendRequest())\n"
     ]
    },
    {
     "name": "stdout",
     "output_type": "stream",
     "text": [
      "\n",
      "error:E:/patent_data/40/PatentPubXML_040028/4028M463009/102208524-A0305.xml,M"
     ]
    },
    {
     "name": "stderr",
     "output_type": "stream",
     "text": [
      "WARNING:elasticsearch:PUT http://10.120.26.16:9200/book/desk/102208525 [status:N/A request:0.000s]\n",
      "Traceback (most recent call last):\n",
      "  File \"build\\bdist.win-amd64\\egg\\elasticsearch\\connection\\http_urllib3.py\", line 78, in perform_request\n",
      "    response = self.pool.urlopen(method, url, body, retries=False, headers=self.headers, **kw)\n",
      "  File \"C:\\Users\\BigData\\Anaconda2\\lib\\site-packages\\urllib3\\connectionpool.py\", line 609, in urlopen\n",
      "    _stacktrace=sys.exc_info()[2])\n",
      "  File \"C:\\Users\\BigData\\Anaconda2\\lib\\site-packages\\urllib3\\util\\retry.py\", line 222, in increment\n",
      "    raise six.reraise(type(error), error, _stacktrace)\n",
      "  File \"C:\\Users\\BigData\\Anaconda2\\lib\\site-packages\\urllib3\\connectionpool.py\", line 559, in urlopen\n",
      "    body=body, headers=headers)\n",
      "  File \"C:\\Users\\BigData\\Anaconda2\\lib\\site-packages\\urllib3\\connectionpool.py\", line 353, in _make_request\n",
      "    conn.request(method, url, **httplib_request_kw)\n",
      "  File \"C:\\Users\\BigData\\Anaconda2\\lib\\httplib.py\", line 1053, in request\n",
      "    self._send_request(method, url, body, headers)\n",
      "  File \"C:\\Users\\BigData\\Anaconda2\\lib\\httplib.py\", line 1087, in _send_request\n",
      "    self.putrequest(method, url, **skips)\n",
      "  File \"C:\\Users\\BigData\\Anaconda2\\lib\\httplib.py\", line 935, in putrequest\n",
      "    raise CannotSendRequest()\n",
      "ProtocolError: ('Connection aborted.', CannotSendRequest())\n"
     ]
    },
    {
     "name": "stdout",
     "output_type": "stream",
     "text": [
      "\n",
      "error:E:/patent_data/40/PatentPubXML_040028/4028M463010/102208525-A0305.xml,M"
     ]
    },
    {
     "name": "stderr",
     "output_type": "stream",
     "text": [
      "WARNING:elasticsearch:PUT http://10.120.26.16:9200/book/desk/102209063 [status:N/A request:0.000s]\n",
      "Traceback (most recent call last):\n",
      "  File \"build\\bdist.win-amd64\\egg\\elasticsearch\\connection\\http_urllib3.py\", line 78, in perform_request\n",
      "    response = self.pool.urlopen(method, url, body, retries=False, headers=self.headers, **kw)\n",
      "  File \"C:\\Users\\BigData\\Anaconda2\\lib\\site-packages\\urllib3\\connectionpool.py\", line 609, in urlopen\n",
      "    _stacktrace=sys.exc_info()[2])\n",
      "  File \"C:\\Users\\BigData\\Anaconda2\\lib\\site-packages\\urllib3\\util\\retry.py\", line 222, in increment\n",
      "    raise six.reraise(type(error), error, _stacktrace)\n",
      "  File \"C:\\Users\\BigData\\Anaconda2\\lib\\site-packages\\urllib3\\connectionpool.py\", line 559, in urlopen\n",
      "    body=body, headers=headers)\n",
      "  File \"C:\\Users\\BigData\\Anaconda2\\lib\\site-packages\\urllib3\\connectionpool.py\", line 353, in _make_request\n",
      "    conn.request(method, url, **httplib_request_kw)\n",
      "  File \"C:\\Users\\BigData\\Anaconda2\\lib\\httplib.py\", line 1053, in request\n",
      "    self._send_request(method, url, body, headers)\n",
      "  File \"C:\\Users\\BigData\\Anaconda2\\lib\\httplib.py\", line 1087, in _send_request\n",
      "    self.putrequest(method, url, **skips)\n",
      "  File \"C:\\Users\\BigData\\Anaconda2\\lib\\httplib.py\", line 935, in putrequest\n",
      "    raise CannotSendRequest()\n",
      "ProtocolError: ('Connection aborted.', CannotSendRequest())\n"
     ]
    },
    {
     "name": "stdout",
     "output_type": "stream",
     "text": [
      "\n",
      "error:E:/patent_data/40/PatentPubXML_040028/4028M463011/102209063-A0305.xml,M"
     ]
    },
    {
     "name": "stderr",
     "output_type": "stream",
     "text": [
      "WARNING:elasticsearch:PUT http://10.120.26.16:9200/book/desk/102207874 [status:N/A request:0.000s]\n",
      "Traceback (most recent call last):\n",
      "  File \"build\\bdist.win-amd64\\egg\\elasticsearch\\connection\\http_urllib3.py\", line 78, in perform_request\n",
      "    response = self.pool.urlopen(method, url, body, retries=False, headers=self.headers, **kw)\n",
      "  File \"C:\\Users\\BigData\\Anaconda2\\lib\\site-packages\\urllib3\\connectionpool.py\", line 609, in urlopen\n",
      "    _stacktrace=sys.exc_info()[2])\n",
      "  File \"C:\\Users\\BigData\\Anaconda2\\lib\\site-packages\\urllib3\\util\\retry.py\", line 222, in increment\n",
      "    raise six.reraise(type(error), error, _stacktrace)\n",
      "  File \"C:\\Users\\BigData\\Anaconda2\\lib\\site-packages\\urllib3\\connectionpool.py\", line 559, in urlopen\n",
      "    body=body, headers=headers)\n",
      "  File \"C:\\Users\\BigData\\Anaconda2\\lib\\site-packages\\urllib3\\connectionpool.py\", line 353, in _make_request\n",
      "    conn.request(method, url, **httplib_request_kw)\n",
      "  File \"C:\\Users\\BigData\\Anaconda2\\lib\\httplib.py\", line 1053, in request\n",
      "    self._send_request(method, url, body, headers)\n",
      "  File \"C:\\Users\\BigData\\Anaconda2\\lib\\httplib.py\", line 1087, in _send_request\n",
      "    self.putrequest(method, url, **skips)\n",
      "  File \"C:\\Users\\BigData\\Anaconda2\\lib\\httplib.py\", line 935, in putrequest\n",
      "    raise CannotSendRequest()\n",
      "ProtocolError: ('Connection aborted.', CannotSendRequest())\n"
     ]
    },
    {
     "name": "stdout",
     "output_type": "stream",
     "text": [
      "\n",
      "error:E:/patent_data/40/PatentPubXML_040028/4028M463012/102207874-A0305.xml,M"
     ]
    },
    {
     "name": "stderr",
     "output_type": "stream",
     "text": [
      "WARNING:elasticsearch:PUT http://10.120.26.16:9200/book/desk/102204971 [status:N/A request:0.000s]\n",
      "Traceback (most recent call last):\n",
      "  File \"build\\bdist.win-amd64\\egg\\elasticsearch\\connection\\http_urllib3.py\", line 78, in perform_request\n",
      "    response = self.pool.urlopen(method, url, body, retries=False, headers=self.headers, **kw)\n",
      "  File \"C:\\Users\\BigData\\Anaconda2\\lib\\site-packages\\urllib3\\connectionpool.py\", line 609, in urlopen\n",
      "    _stacktrace=sys.exc_info()[2])\n",
      "  File \"C:\\Users\\BigData\\Anaconda2\\lib\\site-packages\\urllib3\\util\\retry.py\", line 222, in increment\n",
      "    raise six.reraise(type(error), error, _stacktrace)\n",
      "  File \"C:\\Users\\BigData\\Anaconda2\\lib\\site-packages\\urllib3\\connectionpool.py\", line 559, in urlopen\n",
      "    body=body, headers=headers)\n",
      "  File \"C:\\Users\\BigData\\Anaconda2\\lib\\site-packages\\urllib3\\connectionpool.py\", line 353, in _make_request\n",
      "    conn.request(method, url, **httplib_request_kw)\n",
      "  File \"C:\\Users\\BigData\\Anaconda2\\lib\\httplib.py\", line 1053, in request\n",
      "    self._send_request(method, url, body, headers)\n",
      "  File \"C:\\Users\\BigData\\Anaconda2\\lib\\httplib.py\", line 1087, in _send_request\n",
      "    self.putrequest(method, url, **skips)\n",
      "  File \"C:\\Users\\BigData\\Anaconda2\\lib\\httplib.py\", line 935, in putrequest\n",
      "    raise CannotSendRequest()\n",
      "ProtocolError: ('Connection aborted.', CannotSendRequest())\n"
     ]
    },
    {
     "name": "stdout",
     "output_type": "stream",
     "text": [
      "\n"
     ]
    },
    {
     "ename": "KeyboardInterrupt",
     "evalue": "",
     "output_type": "error",
     "traceback": [
      "\u001b[1;31m---------------------------------------------------------------------------\u001b[0m",
      "\u001b[1;31mKeyboardInterrupt\u001b[0m                         Traceback (most recent call last)",
      "\u001b[1;32m<ipython-input-51-6cad6aa6f0d2>\u001b[0m in \u001b[0;36m<module>\u001b[1;34m()\u001b[0m\n\u001b[0;32m     21\u001b[0m \u001b[1;32mfor\u001b[0m \u001b[0mline\u001b[0m \u001b[1;32min\u001b[0m \u001b[0mpath_file\u001b[0m\u001b[1;33m.\u001b[0m\u001b[0mreadlines\u001b[0m\u001b[1;33m(\u001b[0m\u001b[1;33m)\u001b[0m\u001b[1;33m:\u001b[0m\u001b[1;33m\u001b[0m\u001b[0m\n\u001b[0;32m     22\u001b[0m     \u001b[0mpath_and_dim\u001b[0m \u001b[1;33m=\u001b[0m \u001b[0mline\u001b[0m\u001b[1;33m.\u001b[0m\u001b[0mstrip\u001b[0m\u001b[1;33m(\u001b[0m\u001b[1;33m)\u001b[0m\u001b[1;33m\u001b[0m\u001b[0m\n\u001b[1;32m---> 23\u001b[1;33m     \u001b[0mdoc\u001b[0m \u001b[1;33m=\u001b[0m \u001b[0mread_file\u001b[0m\u001b[1;33m(\u001b[0m\u001b[0mpath_and_dim\u001b[0m\u001b[1;33m)\u001b[0m\u001b[1;33m\u001b[0m\u001b[0m\n\u001b[0m\u001b[0;32m     24\u001b[0m     \u001b[0mdoc\u001b[0m\u001b[1;33m.\u001b[0m\u001b[0mupdate\u001b[0m\u001b[1;33m(\u001b[0m\u001b[1;33m{\u001b[0m\u001b[1;34m'path_list'\u001b[0m\u001b[1;33m:\u001b[0m\u001b[1;34m'40'\u001b[0m\u001b[1;33m}\u001b[0m\u001b[1;33m)\u001b[0m\u001b[1;33m\u001b[0m\u001b[0m\n\u001b[0;32m     25\u001b[0m     \u001b[1;31m#print doc['_id']\u001b[0m\u001b[1;33m\u001b[0m\u001b[1;33m\u001b[0m\u001b[0m\n",
      "\u001b[1;32m<ipython-input-6-bde649e34228>\u001b[0m in \u001b[0;36mread_file\u001b[1;34m(path_and_dim)\u001b[0m\n\u001b[0;32m      5\u001b[0m     \u001b[0mroute\u001b[0m \u001b[1;33m=\u001b[0m \u001b[0mpath_and_dim\u001b[0m\u001b[1;33m.\u001b[0m\u001b[0msplit\u001b[0m\u001b[1;33m(\u001b[0m\u001b[1;34m','\u001b[0m\u001b[1;33m)\u001b[0m\u001b[1;33m[\u001b[0m\u001b[1;36m0\u001b[0m\u001b[1;33m]\u001b[0m\u001b[1;33m\u001b[0m\u001b[0m\n\u001b[0;32m      6\u001b[0m     \u001b[0mf\u001b[0m \u001b[1;33m=\u001b[0m \u001b[0mopen\u001b[0m\u001b[1;33m(\u001b[0m\u001b[0mroute\u001b[0m\u001b[1;33m,\u001b[0m\u001b[1;34m'r'\u001b[0m\u001b[1;33m)\u001b[0m\u001b[1;33m\u001b[0m\u001b[0m\n\u001b[1;32m----> 7\u001b[1;33m     \u001b[0msoup\u001b[0m \u001b[1;33m=\u001b[0m \u001b[0mbs\u001b[0m\u001b[1;33m(\u001b[0m\u001b[0mf\u001b[0m\u001b[1;33m.\u001b[0m\u001b[0mread\u001b[0m\u001b[1;33m(\u001b[0m\u001b[1;33m)\u001b[0m\u001b[1;33m)\u001b[0m\u001b[1;33m\u001b[0m\u001b[0m\n\u001b[0m\u001b[0;32m      8\u001b[0m     \u001b[0mdic\u001b[0m\u001b[1;33m[\u001b[0m\u001b[1;34m'DIM'\u001b[0m\u001b[1;33m]\u001b[0m \u001b[1;33m=\u001b[0m \u001b[0mpath_and_dim\u001b[0m\u001b[1;33m.\u001b[0m\u001b[0msplit\u001b[0m\u001b[1;33m(\u001b[0m\u001b[1;34m','\u001b[0m\u001b[1;33m)\u001b[0m\u001b[1;33m[\u001b[0m\u001b[1;36m1\u001b[0m\u001b[1;33m]\u001b[0m\u001b[1;33m\u001b[0m\u001b[0m\n\u001b[0;32m      9\u001b[0m     \u001b[1;32mfor\u001b[0m \u001b[0mi\u001b[0m \u001b[1;32min\u001b[0m \u001b[0mrange\u001b[0m\u001b[1;33m(\u001b[0m\u001b[1;36m0\u001b[0m\u001b[1;33m,\u001b[0m\u001b[1;36m26\u001b[0m\u001b[1;33m)\u001b[0m\u001b[1;33m:\u001b[0m\u001b[1;33m\u001b[0m\u001b[0m\n",
      "\u001b[1;32mC:\\Users\\BigData\\Anaconda2\\lib\\site-packages\\bs4\\__init__.pyc\u001b[0m in \u001b[0;36m__init__\u001b[1;34m(self, markup, features, builder, parse_only, from_encoding, exclude_encodings, **kwargs)\u001b[0m\n\u001b[0;32m    213\u001b[0m             \u001b[0mself\u001b[0m\u001b[1;33m.\u001b[0m\u001b[0mreset\u001b[0m\u001b[1;33m(\u001b[0m\u001b[1;33m)\u001b[0m\u001b[1;33m\u001b[0m\u001b[0m\n\u001b[0;32m    214\u001b[0m             \u001b[1;32mtry\u001b[0m\u001b[1;33m:\u001b[0m\u001b[1;33m\u001b[0m\u001b[0m\n\u001b[1;32m--> 215\u001b[1;33m                 \u001b[0mself\u001b[0m\u001b[1;33m.\u001b[0m\u001b[0m_feed\u001b[0m\u001b[1;33m(\u001b[0m\u001b[1;33m)\u001b[0m\u001b[1;33m\u001b[0m\u001b[0m\n\u001b[0m\u001b[0;32m    216\u001b[0m                 \u001b[1;32mbreak\u001b[0m\u001b[1;33m\u001b[0m\u001b[0m\n\u001b[0;32m    217\u001b[0m             \u001b[1;32mexcept\u001b[0m \u001b[0mParserRejectedMarkup\u001b[0m\u001b[1;33m:\u001b[0m\u001b[1;33m\u001b[0m\u001b[0m\n",
      "\u001b[1;32mC:\\Users\\BigData\\Anaconda2\\lib\\site-packages\\bs4\\__init__.pyc\u001b[0m in \u001b[0;36m_feed\u001b[1;34m(self)\u001b[0m\n\u001b[0;32m    237\u001b[0m         \u001b[0mself\u001b[0m\u001b[1;33m.\u001b[0m\u001b[0mbuilder\u001b[0m\u001b[1;33m.\u001b[0m\u001b[0mreset\u001b[0m\u001b[1;33m(\u001b[0m\u001b[1;33m)\u001b[0m\u001b[1;33m\u001b[0m\u001b[0m\n\u001b[0;32m    238\u001b[0m \u001b[1;33m\u001b[0m\u001b[0m\n\u001b[1;32m--> 239\u001b[1;33m         \u001b[0mself\u001b[0m\u001b[1;33m.\u001b[0m\u001b[0mbuilder\u001b[0m\u001b[1;33m.\u001b[0m\u001b[0mfeed\u001b[0m\u001b[1;33m(\u001b[0m\u001b[0mself\u001b[0m\u001b[1;33m.\u001b[0m\u001b[0mmarkup\u001b[0m\u001b[1;33m)\u001b[0m\u001b[1;33m\u001b[0m\u001b[0m\n\u001b[0m\u001b[0;32m    240\u001b[0m         \u001b[1;31m# Close out any unfinished strings and close all the open tags.\u001b[0m\u001b[1;33m\u001b[0m\u001b[1;33m\u001b[0m\u001b[0m\n\u001b[0;32m    241\u001b[0m         \u001b[0mself\u001b[0m\u001b[1;33m.\u001b[0m\u001b[0mendData\u001b[0m\u001b[1;33m(\u001b[0m\u001b[1;33m)\u001b[0m\u001b[1;33m\u001b[0m\u001b[0m\n",
      "\u001b[1;32mC:\\Users\\BigData\\Anaconda2\\lib\\site-packages\\bs4\\builder\\_lxml.pyc\u001b[0m in \u001b[0;36mfeed\u001b[1;34m(self, markup)\u001b[0m\n\u001b[0;32m    239\u001b[0m             \u001b[0mself\u001b[0m\u001b[1;33m.\u001b[0m\u001b[0mparser\u001b[0m \u001b[1;33m=\u001b[0m \u001b[0mself\u001b[0m\u001b[1;33m.\u001b[0m\u001b[0mparser_for\u001b[0m\u001b[1;33m(\u001b[0m\u001b[0mencoding\u001b[0m\u001b[1;33m)\u001b[0m\u001b[1;33m\u001b[0m\u001b[0m\n\u001b[0;32m    240\u001b[0m             \u001b[0mself\u001b[0m\u001b[1;33m.\u001b[0m\u001b[0mparser\u001b[0m\u001b[1;33m.\u001b[0m\u001b[0mfeed\u001b[0m\u001b[1;33m(\u001b[0m\u001b[0mmarkup\u001b[0m\u001b[1;33m)\u001b[0m\u001b[1;33m\u001b[0m\u001b[0m\n\u001b[1;32m--> 241\u001b[1;33m             \u001b[0mself\u001b[0m\u001b[1;33m.\u001b[0m\u001b[0mparser\u001b[0m\u001b[1;33m.\u001b[0m\u001b[0mclose\u001b[0m\u001b[1;33m(\u001b[0m\u001b[1;33m)\u001b[0m\u001b[1;33m\u001b[0m\u001b[0m\n\u001b[0m\u001b[0;32m    242\u001b[0m         \u001b[1;32mexcept\u001b[0m \u001b[1;33m(\u001b[0m\u001b[0mUnicodeDecodeError\u001b[0m\u001b[1;33m,\u001b[0m \u001b[0mLookupError\u001b[0m\u001b[1;33m,\u001b[0m \u001b[0metree\u001b[0m\u001b[1;33m.\u001b[0m\u001b[0mParserError\u001b[0m\u001b[1;33m)\u001b[0m\u001b[1;33m,\u001b[0m \u001b[0me\u001b[0m\u001b[1;33m:\u001b[0m\u001b[1;33m\u001b[0m\u001b[0m\n\u001b[0;32m    243\u001b[0m             \u001b[1;32mraise\u001b[0m \u001b[0mParserRejectedMarkup\u001b[0m\u001b[1;33m(\u001b[0m\u001b[0mstr\u001b[0m\u001b[1;33m(\u001b[0m\u001b[0me\u001b[0m\u001b[1;33m)\u001b[0m\u001b[1;33m)\u001b[0m\u001b[1;33m\u001b[0m\u001b[0m\n",
      "\u001b[1;32mparser.pxi\u001b[0m in \u001b[0;36mlxml.etree._FeedParser.close (src\\lxml\\lxml.etree.c:102684)\u001b[1;34m()\u001b[0m\n",
      "\u001b[1;32mparser.pxi\u001b[0m in \u001b[0;36mlxml.etree._FeedParser.close (src\\lxml\\lxml.etree.c:102529)\u001b[1;34m()\u001b[0m\n",
      "\u001b[1;32mparsertarget.pxi\u001b[0m in \u001b[0;36mlxml.etree._TargetParserContext._handleParseResult (src\\lxml\\lxml.etree.c:117093)\u001b[1;34m()\u001b[0m\n",
      "\u001b[1;32mparsertarget.pxi\u001b[0m in \u001b[0;36mlxml.etree._TargetParserContext._handleParseResult (src\\lxml\\lxml.etree.c:116869)\u001b[1;34m()\u001b[0m\n",
      "\u001b[1;32mlxml.etree.pyx\u001b[0m in \u001b[0;36mlxml.etree._ExceptionContext._raise_if_stored (src\\lxml\\lxml.etree.c:10323)\u001b[1;34m()\u001b[0m\n",
      "\u001b[1;32msaxparser.pxi\u001b[0m in \u001b[0;36mlxml.etree._handleSaxTargetStartNoNs (src\\lxml\\lxml.etree.c:110352)\u001b[1;34m()\u001b[0m\n",
      "\u001b[1;32msaxparser.pxi\u001b[0m in \u001b[0;36mlxml.etree._callTargetSaxStart (src\\lxml\\lxml.etree.c:110524)\u001b[1;34m()\u001b[0m\n",
      "\u001b[1;32mparsertarget.pxi\u001b[0m in \u001b[0;36mlxml.etree._PythonSaxParserTarget._handleSaxStart (src\\lxml\\lxml.etree.c:116023)\u001b[1;34m()\u001b[0m\n",
      "\u001b[1;32mC:\\Users\\BigData\\Anaconda2\\lib\\site-packages\\bs4\\builder\\_lxml.pyc\u001b[0m in \u001b[0;36mstart\u001b[1;34m(self, name, attrs, nsmap)\u001b[0m\n\u001b[0;32m    172\u001b[0m         \u001b[0mnamespace\u001b[0m\u001b[1;33m,\u001b[0m \u001b[0mname\u001b[0m \u001b[1;33m=\u001b[0m \u001b[0mself\u001b[0m\u001b[1;33m.\u001b[0m\u001b[0m_getNsTag\u001b[0m\u001b[1;33m(\u001b[0m\u001b[0mname\u001b[0m\u001b[1;33m)\u001b[0m\u001b[1;33m\u001b[0m\u001b[0m\n\u001b[0;32m    173\u001b[0m         \u001b[0mnsprefix\u001b[0m \u001b[1;33m=\u001b[0m \u001b[0mself\u001b[0m\u001b[1;33m.\u001b[0m\u001b[0m_prefix_for_namespace\u001b[0m\u001b[1;33m(\u001b[0m\u001b[0mnamespace\u001b[0m\u001b[1;33m)\u001b[0m\u001b[1;33m\u001b[0m\u001b[0m\n\u001b[1;32m--> 174\u001b[1;33m         \u001b[0mself\u001b[0m\u001b[1;33m.\u001b[0m\u001b[0msoup\u001b[0m\u001b[1;33m.\u001b[0m\u001b[0mhandle_starttag\u001b[0m\u001b[1;33m(\u001b[0m\u001b[0mname\u001b[0m\u001b[1;33m,\u001b[0m \u001b[0mnamespace\u001b[0m\u001b[1;33m,\u001b[0m \u001b[0mnsprefix\u001b[0m\u001b[1;33m,\u001b[0m \u001b[0mattrs\u001b[0m\u001b[1;33m)\u001b[0m\u001b[1;33m\u001b[0m\u001b[0m\n\u001b[0m\u001b[0;32m    175\u001b[0m \u001b[1;33m\u001b[0m\u001b[0m\n\u001b[0;32m    176\u001b[0m     \u001b[1;32mdef\u001b[0m \u001b[0m_prefix_for_namespace\u001b[0m\u001b[1;33m(\u001b[0m\u001b[0mself\u001b[0m\u001b[1;33m,\u001b[0m \u001b[0mnamespace\u001b[0m\u001b[1;33m)\u001b[0m\u001b[1;33m:\u001b[0m\u001b[1;33m\u001b[0m\u001b[0m\n",
      "\u001b[1;32mC:\\Users\\BigData\\Anaconda2\\lib\\site-packages\\bs4\\__init__.pyc\u001b[0m in \u001b[0;36mhandle_starttag\u001b[1;34m(self, name, namespace, nsprefix, attrs)\u001b[0m\n\u001b[0;32m    408\u001b[0m             \u001b[0mself\u001b[0m\u001b[1;33m.\u001b[0m\u001b[0m_most_recent_element\u001b[0m\u001b[1;33m.\u001b[0m\u001b[0mnext_element\u001b[0m \u001b[1;33m=\u001b[0m \u001b[0mtag\u001b[0m\u001b[1;33m\u001b[0m\u001b[0m\n\u001b[0;32m    409\u001b[0m         \u001b[0mself\u001b[0m\u001b[1;33m.\u001b[0m\u001b[0m_most_recent_element\u001b[0m \u001b[1;33m=\u001b[0m \u001b[0mtag\u001b[0m\u001b[1;33m\u001b[0m\u001b[0m\n\u001b[1;32m--> 410\u001b[1;33m         \u001b[0mself\u001b[0m\u001b[1;33m.\u001b[0m\u001b[0mpushTag\u001b[0m\u001b[1;33m(\u001b[0m\u001b[0mtag\u001b[0m\u001b[1;33m)\u001b[0m\u001b[1;33m\u001b[0m\u001b[0m\n\u001b[0m\u001b[0;32m    411\u001b[0m         \u001b[1;32mreturn\u001b[0m \u001b[0mtag\u001b[0m\u001b[1;33m\u001b[0m\u001b[0m\n\u001b[0;32m    412\u001b[0m \u001b[1;33m\u001b[0m\u001b[0m\n",
      "\u001b[1;31mKeyboardInterrupt\u001b[0m: "
     ]
    }
   ],
   "source": [
    "#新增資料\n",
    "from elasticsearch import Elasticsearch\n",
    "import elasticsearch\n",
    "es = Elasticsearch('10.120.26.16:9200')\n",
    "\n",
    "path_file = open('E:/patent_data/path_list_40.txt','r')\n",
    "count = 0\n",
    "ff = open('e:/problem.txt','w')\n",
    "for line in path_file.readlines():\n",
    "    path_and_dim = line.strip()\n",
    "    doc = read_file(path_and_dim)\n",
    "    doc.update({'path_list':'40'})\n",
    "\n",
    "    try:\n",
    "        es.index(index=\"book\", doc_type=\"desk\", id=doc['_id'], body=doc, request_timeout=20, ignore=400)\n",
    "        count += 1\n",
    "    except elasticsearch.exceptions.ConnectionError:\n",
    "        print 'timeout:' + path_and_dim\n",
    "        ff.write('timeout:' + path_and_dim)\n",
    "        pass\n",
    "    except:\n",
    "        print 'error:' + path_and_dim\n",
    "        ff.write('error:' + path_and_dim)\n",
    "        pass\n",
    "    \n",
    "ff.close()\n",
    "print '成功筆數:'+str(count)  #成功進筆數\n",
    "path_file.close()"
   ]
  },
  {
   "cell_type": "code",
   "execution_count": 54,
   "metadata": {
    "collapsed": false
   },
   "outputs": [],
   "source": [
    "# for i in doc:\n",
    "#     print doc[i].decode('utf-8')"
   ]
  },
  {
   "cell_type": "code",
   "execution_count": 18,
   "metadata": {
    "collapsed": false
   },
   "outputs": [
    {
     "name": "stdout",
     "output_type": "stream",
     "text": [
      "_id重複: E:/patent_data/42/PatentPubXML_042002/4202D165450/102306072-A0305.xml,D\n",
      "_id重複: E:/patent_data/42/PatentPubXML_042019/4219I490473/101100273-A0305.xml,I\n",
      "57623\n"
     ]
    }
   ],
   "source": [
    "##step5 存進db\n",
    "import pymongo\n",
    "from pymongo import MongoClient\n",
    "client = MongoClient('mongodb://localhost:27017')\n",
    "db = client['']  #選擇database\n",
    "collect = db['']  #選擇database.collection\n",
    "\n",
    "path_file = open('E:/patent_data/path_list_42.txt','r')\n",
    "count = 0\n",
    "for line in path_file.readlines():\n",
    "    path_and_dim = line.strip()\n",
    "    dic = read_file(path_and_dim)\n",
    "    #print len(dic)\n",
    "    try:\n",
    "        collect.insert_one(dic)\n",
    "        count += 1\n",
    "    except pymongo.errors.DuplicateKeyError: #_id重複 (application-num)\n",
    "        print '_id重複: ' + path_and_dim\n",
    "        pass\n",
    "    \n",
    "    #print count,  dic['application-num'], path_and_dim\n",
    "print count  #成功進筆數\n",
    "path_file.close()\n",
    "\n",
    "#可能出以下東西\n",
    "#No spec:  抓不到specification, 可能原始檔有問題(亂碼)\n",
    "#'_id重複:'"
   ]
  },
  {
   "cell_type": "markdown",
   "metadata": {
    "collapsed": true
   },
   "source": [
    "特殊的\n",
    "utility-model-specification\n",
    "E:/patent_data/PatentPubXML_040011/4011M450881/101224447-A0305.xml,M"
   ]
  }
 ],
 "metadata": {
  "kernelspec": {
   "display_name": "Python 2",
   "language": "python",
   "name": "python2"
  },
  "language_info": {
   "codemirror_mode": {
    "name": "ipython",
    "version": 2
   },
   "file_extension": ".py",
   "mimetype": "text/x-python",
   "name": "python",
   "nbconvert_exporter": "python",
   "pygments_lexer": "ipython2",
   "version": "2.7.10"
  }
 },
 "nbformat": 4,
 "nbformat_minor": 0
}
